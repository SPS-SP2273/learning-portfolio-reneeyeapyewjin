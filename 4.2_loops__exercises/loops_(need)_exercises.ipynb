{
 "cells": [
  {
   "attachments": {},
   "cell_type": "markdown",
   "id": "123456",
   "metadata": {},
   "source": [
    "<div style=\"text-align:left;font-size:2em\"><span style=\"font-weight:bolder;font-size:1.25em\">SP2273 | Learning Portfolio</span><br><br><span style=\"font-weight:bold;color:darkred\">Loops (Need) Exercises</span></div>"
   ]
  },
  {
   "cell_type": "markdown",
   "id": "977186d9",
   "metadata": {},
   "source": [
    "## Exercise 1 (Celsius to Fahrenheit)"
   ]
  },
  {
   "cell_type": "code",
   "execution_count": 15,
   "id": "b856611d",
   "metadata": {},
   "outputs": [
    {
     "name": "stdout",
     "output_type": "stream",
     "text": [
      "0, 32.0\n",
      "5, 41.0\n",
      "10, 50.0\n",
      "15, 59.0\n",
      "20, 68.0\n",
      "25, 77.0\n",
      "30, 86.0\n",
      "35, 95.0\n",
      "40, 104.0\n",
      "45, 113.0\n",
      "50, 122.0\n"
     ]
    }
   ],
   "source": [
    "temperatures_celsius = [\n",
    "    0, 5, 10, 15, 20, 25,\n",
    "    30, 35, 40, 45, 50\n",
    "]\n",
    "\n",
    "import numpy as np\n",
    "\n",
    "temp_c = np.array(temperatures_celsius)\n",
    "temp_f = temp_c *9/5+32\n",
    "\n",
    "for index, cel in enumerate(temp_c):\n",
    "    fah = temp_f[index]\n",
    "    print (f\"{cel}, {fah}\")"
   ]
  },
  {
   "cell_type": "markdown",
   "id": "c3c42649",
   "metadata": {},
   "source": [
    "## Exercise 2 (Multiplication table)"
   ]
  },
  {
   "cell_type": "code",
   "execution_count": 50,
   "id": "4325cbc5",
   "metadata": {},
   "outputs": [
    {
     "name": "stdout",
     "output_type": "stream",
     "text": [
      "1 : 1\t2\t3\t4\t5\t\n",
      "\n",
      "2 : 2\t4\t6\t8\t10\t\n",
      "\n",
      "3 : 3\t6\t9\t12\t15\t\n",
      "\n",
      "4 : 4\t8\t12\t16\t20\t\n",
      "\n",
      "5 : 5\t10\t15\t20\t25\t\n",
      "\n"
     ]
    }
   ],
   "source": [
    "for number in [1, 2, 3, 4, 5]:\n",
    "    print(f'{number} : ', end=\"\")\n",
    "    for num2 in [1, 2, 3, 4, 5]:\n",
    "        print(num2 * number, end='\\t')\n",
    "    print('\\n')"
   ]
  },
  {
   "cell_type": "markdown",
   "id": "449978c5",
   "metadata": {},
   "source": [
    "## Exercise 3 (Simulating a Coin Flip Experiment)  "
   ]
  },
  {
   "cell_type": "code",
   "execution_count": 51,
   "id": "f79ed362",
   "metadata": {},
   "outputs": [
    {
     "name": "stdout",
     "output_type": "stream",
     "text": [
      "Experiment 1: No. of Heads = 7\n",
      "Experiment 2: No. of Heads = 5\n",
      "Experiment 3: No. of Heads = 4\n",
      "Experiment 4: No. of Heads = 3\n",
      "Experiment 5: No. of Heads = 2\n",
      "Experiment 6: No. of Heads = 8\n",
      "Experiment 7: No. of Heads = 2\n",
      "Experiment 8: No. of Heads = 5\n",
      "Experiment 9: No. of Heads = 6\n",
      "Experiment 10: No. of Heads = 5\n"
     ]
    }
   ],
   "source": [
    "for i in range (1, 11):\n",
    "    np.random.rand(10)\n",
    "    mask = np.random.rand(10)>0.5\n",
    "    print (f'Experiment {i}: No. of Heads = {mask.sum()}')\n",
    "\n",
    "\n"
   ]
  }
 ],
 "metadata": {
  "kernelspec": {
   "display_name": "base",
   "language": "python",
   "name": "python3"
  },
  "language_info": {
   "codemirror_mode": {
    "name": "ipython",
    "version": 3
   },
   "file_extension": ".py",
   "mimetype": "text/x-python",
   "name": "python",
   "nbconvert_exporter": "python",
   "pygments_lexer": "ipython3",
   "version": "3.13.5"
  },
  "toc": {
   "base_numbering": 1,
   "nav_menu": {},
   "number_sections": true,
   "sideBar": true,
   "skip_h1_title": false,
   "title_cell": "Table of Contents",
   "title_sidebar": "Contents",
   "toc_cell": false,
   "toc_position": {},
   "toc_section_display": true,
   "toc_window_display": false
  }
 },
 "nbformat": 4,
 "nbformat_minor": 5
}
