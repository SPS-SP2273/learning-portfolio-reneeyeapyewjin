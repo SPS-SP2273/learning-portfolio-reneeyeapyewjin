{
 "cells": [
  {
   "attachments": {},
   "cell_type": "markdown",
   "id": "123456",
   "metadata": {},
   "source": [
    "<div style=\"text-align:left;font-size:2em\"><span style=\"font-weight:bolder;font-size:1.25em\">SP2273 | Learning Portfolio</span><br><br><span style=\"font-weight:bold;color:darkred\">Loops (Good) Exercises</span></div>"
   ]
  },
  {
   "cell_type": "markdown",
   "id": "9d9c2180",
   "metadata": {},
   "source": [
    "## Exercise 1 (Make me an odd list)"
   ]
  },
  {
   "cell_type": "code",
   "execution_count": 1,
   "id": "ea885254",
   "metadata": {},
   "outputs": [
    {
     "name": "stdout",
     "output_type": "stream",
     "text": [
      "1\n",
      "9\n",
      "25\n",
      "49\n",
      "81\n"
     ]
    }
   ],
   "source": [
    "for i in range(10):\n",
    "    if i % 2 == 0:\n",
    "        continue\n",
    "    square = i**2\n",
    "    print(square)"
   ]
  },
  {
   "cell_type": "markdown",
   "id": "8d5b3c16",
   "metadata": {},
   "source": [
    "## Exercise 2 (Make me another odd list)"
   ]
  },
  {
   "cell_type": "code",
   "execution_count": 3,
   "id": "e56687c0",
   "metadata": {},
   "outputs": [
    {
     "data": {
      "text/plain": [
       "[1, 9, 25, 49, 81]"
      ]
     },
     "execution_count": 3,
     "metadata": {},
     "output_type": "execute_result"
    }
   ],
   "source": [
    "[i**2 for i in range (10) if i%2==1]"
   ]
  },
  {
   "cell_type": "markdown",
   "id": "82418e42",
   "metadata": {},
   "source": [
    "## Exercise 3 (Time me!) "
   ]
  },
  {
   "cell_type": "code",
   "execution_count": 5,
   "id": "39bc2184",
   "metadata": {},
   "outputs": [
    {
     "name": "stdout",
     "output_type": "stream",
     "text": [
      "371 ns ± 3.95 ns per loop (mean ± std. dev. of 7 runs, 1,000,000 loops each)\n"
     ]
    }
   ],
   "source": [
    "%%timeit\n",
    "for i in range(10):\n",
    "    if i % 2 == 0:\n",
    "        continue\n",
    "    square = i**2"
   ]
  },
  {
   "cell_type": "code",
   "execution_count": 6,
   "id": "a9193eec",
   "metadata": {},
   "outputs": [
    {
     "name": "stdout",
     "output_type": "stream",
     "text": [
      "365 ns ± 4.94 ns per loop (mean ± std. dev. of 7 runs, 1,000,000 loops each)\n"
     ]
    }
   ],
   "source": [
    "%%timeit\n",
    "[i**2 for i in range (10) if i%2==1]"
   ]
  },
  {
   "cell_type": "markdown",
   "id": "7595ade6",
   "metadata": {},
   "source": [
    "The second solution is faster."
   ]
  },
  {
   "cell_type": "markdown",
   "id": "3a06830d",
   "metadata": {},
   "source": [
    "## Exercise 4 (A problem of decay)"
   ]
  },
  {
   "cell_type": "code",
   "execution_count": 1,
   "id": "9230d05f",
   "metadata": {},
   "outputs": [
    {
     "name": "stdout",
     "output_type": "stream",
     "text": [
      "14 years\n"
     ]
    }
   ],
   "source": [
    "radioactive=100\n",
    "count = 0\n",
    "\n",
    "while True:\n",
    "    radioactive *= 0.95\n",
    "    count +=1\n",
    "    if radioactive <50: break\n",
    "print (count,\"years\")"
   ]
  },
  {
   "cell_type": "markdown",
   "id": "2fb3a964",
   "metadata": {},
   "source": [
    "## Exercise 5 (Changes in CO2)"
   ]
  },
  {
   "cell_type": "code",
   "execution_count": 2,
   "id": "67b12a66",
   "metadata": {},
   "outputs": [
    {
     "name": "stdout",
     "output_type": "stream",
     "text": [
      "From 2015 to 2016, there was an increase of 3.410ppm\n"
     ]
    }
   ],
   "source": [
    "co2_data = [\n",
    "    (2000, 369.55), (2001, 371.14), (2002, 373.28), \n",
    "    (2003, 375.80), (2004, 377.52), (2005, 379.80), \n",
    "    (2006, 381.90), (2007, 383.79), (2008, 385.60), \n",
    "    (2009, 387.43), (2010, 389.90), (2011, 391.65), \n",
    "    (2012, 393.85), (2013, 396.52), (2014, 398.65),\n",
    "    (2015, 400.83), (2016, 404.24), (2017, 406.55), \n",
    "    (2018, 408.52), (2019, 411.44), (2020, 414.24)\n",
    "]\n",
    "for index, (year, co2) in enumerate(co2_data):\n",
    "    if index == 0: continue\n",
    "    x = co2_data[index][1]\n",
    "    y = co2_data[index-1][1]\n",
    "    if x-y>3:\n",
    "        print(f'From {co2_data[index-1][0]} to {year}, there was an increase of {x-y:.3f}ppm')"
   ]
  }
 ],
 "metadata": {
  "kernelspec": {
   "display_name": "base",
   "language": "python",
   "name": "python3"
  },
  "language_info": {
   "codemirror_mode": {
    "name": "ipython",
    "version": 3
   },
   "file_extension": ".py",
   "mimetype": "text/x-python",
   "name": "python",
   "nbconvert_exporter": "python",
   "pygments_lexer": "ipython3",
   "version": "3.13.5"
  },
  "toc": {
   "base_numbering": 1,
   "nav_menu": {},
   "number_sections": true,
   "sideBar": true,
   "skip_h1_title": false,
   "title_cell": "Table of Contents",
   "title_sidebar": "Contents",
   "toc_cell": false,
   "toc_position": {},
   "toc_section_display": true,
   "toc_window_display": false
  }
 },
 "nbformat": 4,
 "nbformat_minor": 5
}
