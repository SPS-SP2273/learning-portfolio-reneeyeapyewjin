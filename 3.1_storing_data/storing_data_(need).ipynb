{
 "cells": [
  {
   "attachments": {},
   "cell_type": "markdown",
   "id": "123456",
   "metadata": {},
   "source": [
    "<div style=\"text-align:left;font-size:2em\"><span style=\"font-weight:bolder;font-size:1.25em\">SP2273 | Learning Portfolio</span><br><br><span style=\"font-weight:bold;color:darkred\">Storing Data (Need)</span></div>"
   ]
  },
  {
   "attachments": {},
   "cell_type": "markdown",
   "id": "123456",
   "metadata": {},
   "source": [
    "# What to expect in this chapter"
   ]
  },
  {
   "attachments": {},
   "cell_type": "markdown",
   "id": "123456",
   "metadata": {},
   "source": [
    "# 1 Lists, Arrays & Dictionaries"
   ]
  },
  {
   "attachments": {},
   "cell_type": "markdown",
   "id": "123456",
   "metadata": {},
   "source": [
    "## 1.1 Let’s compare"
   ]
  },
  {
   "cell_type": "code",
   "execution_count": 1,
   "id": "63ba5ef4",
   "metadata": {},
   "outputs": [],
   "source": [
    "py_super_names = [\"Black Widow\", \"Iron Man\", \"Doctor Strange\"]\n",
    "py_real_names = [\"Natasha Romanoff\", \"Tony Stark\", \"Stephen Strange\"]"
   ]
  },
  {
   "cell_type": "code",
   "execution_count": 3,
   "id": "48741703",
   "metadata": {},
   "outputs": [],
   "source": [
    "import numpy as np\n",
    "np_super_names = np.array([\"Black Widow\", \"Iron Man\", \"Doctor Strange\"])\n",
    "np_real_names = np.array([\"Natasha Romanoff\", \"Tony Stark\", \"Stephen Strange\"])"
   ]
  },
  {
   "cell_type": "code",
   "execution_count": 4,
   "id": "9d4b218b",
   "metadata": {},
   "outputs": [],
   "source": [
    "superhero_info = {\n",
    "    \"Natasha Romanoff\": \"Black Widow\",\n",
    "    \"Tony Stark\": \"Iron Man\",\n",
    "    \"Stephen Strange\": \"Doctor Strange\"\n",
    "}"
   ]
  },
  {
   "attachments": {},
   "cell_type": "markdown",
   "id": "123456",
   "metadata": {},
   "source": [
    "## 1.2 Accessing data from a list (or array)"
   ]
  },
  {
   "cell_type": "code",
   "execution_count": 5,
   "id": "c9e1647c",
   "metadata": {},
   "outputs": [
    {
     "data": {
      "text/plain": [
       "'Natasha Romanoff'"
      ]
     },
     "execution_count": 5,
     "metadata": {},
     "output_type": "execute_result"
    }
   ],
   "source": [
    "py_real_names[0]"
   ]
  },
  {
   "cell_type": "code",
   "execution_count": 6,
   "id": "24a7a751",
   "metadata": {},
   "outputs": [
    {
     "data": {
      "text/plain": [
       "'Black Widow'"
      ]
     },
     "execution_count": 6,
     "metadata": {},
     "output_type": "execute_result"
    }
   ],
   "source": [
    "py_super_names[0]"
   ]
  },
  {
   "cell_type": "code",
   "execution_count": 7,
   "id": "0a7b1e60",
   "metadata": {},
   "outputs": [
    {
     "name": "stdout",
     "output_type": "stream",
     "text": [
      "Tony Stark is Iron Man\n"
     ]
    }
   ],
   "source": [
    "i = 1\n",
    "print (py_real_names[1], \"is\", py_super_names[i])"
   ]
  },
  {
   "cell_type": "code",
   "execution_count": 8,
   "id": "d538b09d",
   "metadata": {},
   "outputs": [
    {
     "data": {
      "text/plain": [
       "'Doctor Strange'"
      ]
     },
     "execution_count": 8,
     "metadata": {},
     "output_type": "execute_result"
    }
   ],
   "source": [
    "py_super_names[-1]"
   ]
  },
  {
   "attachments": {},
   "cell_type": "markdown",
   "id": "123456",
   "metadata": {},
   "source": [
    "## 1.3 Accessing data from a dictionary"
   ]
  },
  {
   "cell_type": "code",
   "execution_count": 9,
   "id": "84fe52ca",
   "metadata": {},
   "outputs": [
    {
     "data": {
      "text/plain": [
       "'Black Widow'"
      ]
     },
     "execution_count": 9,
     "metadata": {},
     "output_type": "execute_result"
    }
   ],
   "source": [
    "superhero_info[\"Natasha Romanoff\"]"
   ]
  },
  {
   "cell_type": "code",
   "execution_count": 10,
   "id": "e1036e6a",
   "metadata": {},
   "outputs": [
    {
     "data": {
      "text/plain": [
       "dict_keys(['Natasha Romanoff', 'Tony Stark', 'Stephen Strange'])"
      ]
     },
     "execution_count": 10,
     "metadata": {},
     "output_type": "execute_result"
    }
   ],
   "source": [
    "superhero_info.keys()"
   ]
  },
  {
   "cell_type": "code",
   "execution_count": 11,
   "id": "37573ed3",
   "metadata": {},
   "outputs": [
    {
     "data": {
      "text/plain": [
       "dict_values(['Black Widow', 'Iron Man', 'Doctor Strange'])"
      ]
     },
     "execution_count": 11,
     "metadata": {},
     "output_type": "execute_result"
    }
   ],
   "source": [
    "superhero_info.values()"
   ]
  },
  {
   "attachments": {},
   "cell_type": "markdown",
   "id": "123456",
   "metadata": {},
   "source": [
    "## 1.4 Higher dimensional lists"
   ]
  },
  {
   "cell_type": "code",
   "execution_count": 12,
   "id": "3746fb8b",
   "metadata": {},
   "outputs": [],
   "source": [
    "py_superhero_info = [['Natasha Romanoff', 'Black Widow'],\n",
    "                     ['Tony Stark', 'Iron Man'],\n",
    "                     ['Stephen Strange', 'Doctor Strange']]"
   ]
  },
  {
   "cell_type": "code",
   "execution_count": 14,
   "id": "f9be37da",
   "metadata": {},
   "outputs": [
    {
     "data": {
      "text/plain": [
       "'Iron Man'"
      ]
     },
     "execution_count": 14,
     "metadata": {},
     "output_type": "execute_result"
    }
   ],
   "source": [
    "py_superhero_info [1][-1]"
   ]
  },
  {
   "attachments": {},
   "cell_type": "markdown",
   "id": "123456",
   "metadata": {},
   "source": [
    "# 2 Lists vs. Arrays"
   ]
  },
  {
   "attachments": {},
   "cell_type": "markdown",
   "id": "123456",
   "metadata": {},
   "source": [
    "## 2.1 Size"
   ]
  },
  {
   "attachments": {},
   "cell_type": "markdown",
   "id": "123456",
   "metadata": {},
   "source": [
    "## 2.2 Arrays are fussy about type"
   ]
  },
  {
   "attachments": {},
   "cell_type": "markdown",
   "id": "123456",
   "metadata": {},
   "source": [
    "## 2.3 Adding a number"
   ]
  },
  {
   "attachments": {},
   "cell_type": "markdown",
   "id": "123456",
   "metadata": {},
   "source": [
    "## 2.4 Adding another list"
   ]
  },
  {
   "attachments": {},
   "cell_type": "markdown",
   "id": "123456",
   "metadata": {},
   "source": [
    "## 2.5 Multiplying by a Number"
   ]
  },
  {
   "attachments": {},
   "cell_type": "markdown",
   "id": "123456",
   "metadata": {},
   "source": [
    "## 2.6 Squaring"
   ]
  },
  {
   "attachments": {},
   "cell_type": "markdown",
   "id": "123456",
   "metadata": {},
   "source": [
    "## 2.7 Asking questions"
   ]
  },
  {
   "attachments": {},
   "cell_type": "markdown",
   "id": "123456",
   "metadata": {},
   "source": [
    "## 2.8 Mathematics"
   ]
  },
  {
   "attachments": {},
   "cell_type": "markdown",
   "id": "123456",
   "metadata": {},
   "source": [
    "## Footnotes"
   ]
  }
 ],
 "metadata": {
  "kernelspec": {
   "display_name": "base",
   "language": "python",
   "name": "python3"
  },
  "language_info": {
   "codemirror_mode": {
    "name": "ipython",
    "version": 3
   },
   "file_extension": ".py",
   "mimetype": "text/x-python",
   "name": "python",
   "nbconvert_exporter": "python",
   "pygments_lexer": "ipython3",
   "version": "3.13.5"
  },
  "toc": {
   "base_numbering": 1,
   "nav_menu": {},
   "number_sections": true,
   "sideBar": true,
   "skip_h1_title": false,
   "title_cell": "Table of Contents",
   "title_sidebar": "Contents",
   "toc_cell": false,
   "toc_position": {},
   "toc_section_display": true,
   "toc_window_display": false
  }
 },
 "nbformat": 4,
 "nbformat_minor": 5
}
