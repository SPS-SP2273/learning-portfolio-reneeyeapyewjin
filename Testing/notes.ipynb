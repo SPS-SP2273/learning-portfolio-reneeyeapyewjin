{
 "cells": [
  {
   "cell_type": "code",
   "execution_count": 107,
   "id": "21352384",
   "metadata": {},
   "outputs": [],
   "source": [
    "import numpy as np"
   ]
  },
  {
   "cell_type": "code",
   "execution_count": 108,
   "id": "b9495775",
   "metadata": {},
   "outputs": [
    {
     "name": "stdout",
     "output_type": "stream",
     "text": [
      "3.0\n"
     ]
    }
   ],
   "source": [
    "py_list = [1, 1.5, 'A']\n",
    "np_array = np.array(py_list)\n",
    "\n",
    "print(np_array[1].astype(float)*2)\n"
   ]
  },
  {
   "cell_type": "code",
   "execution_count": 109,
   "id": "70efbacf",
   "metadata": {},
   "outputs": [
    {
     "name": "stdout",
     "output_type": "stream",
     "text": [
      "3.0\n"
     ]
    }
   ],
   "source": [
    "py_list = [1, 1.5, 'A']\n",
    "np_array = np.array(py_list)\n",
    "print(float(np_array[1])*2)"
   ]
  },
  {
   "cell_type": "code",
   "execution_count": 110,
   "id": "eaa1da54",
   "metadata": {},
   "outputs": [
    {
     "data": {
      "text/plain": [
       "'1.5'"
      ]
     },
     "execution_count": 110,
     "metadata": {},
     "output_type": "execute_result"
    }
   ],
   "source": [
    "str(np_array[1])"
   ]
  },
  {
   "cell_type": "code",
   "execution_count": 111,
   "id": "fb148615",
   "metadata": {},
   "outputs": [
    {
     "data": {
      "text/plain": [
       "np.int64(49)"
      ]
     },
     "execution_count": 111,
     "metadata": {},
     "output_type": "execute_result"
    }
   ],
   "source": [
    "np_array = np.array([1, 2, 3, 4, 5, 6, 7, 8, 9, 10])\n",
    "my_mask = np_array > 3\n",
    "sum(np_array[my_mask])"
   ]
  },
  {
   "cell_type": "code",
   "execution_count": 112,
   "id": "ea4b0add",
   "metadata": {},
   "outputs": [
    {
     "data": {
      "text/plain": [
       "[4, 5, 6]"
      ]
     },
     "execution_count": 112,
     "metadata": {},
     "output_type": "execute_result"
    }
   ],
   "source": [
    "x=[1, 2, 3]\n",
    "x.append([4, 5, 6])\n",
    "x[3]"
   ]
  },
  {
   "cell_type": "code",
   "execution_count": 113,
   "id": "83df9b11",
   "metadata": {},
   "outputs": [
    {
     "name": "stdout",
     "output_type": "stream",
     "text": [
      "3 4 5.0\n"
     ]
    }
   ],
   "source": [
    "import math\n",
    "x, y = 3, 4\n",
    "z = math.sqrt(x**2 + y**2)\n",
    "print(x, y, z)"
   ]
  },
  {
   "cell_type": "code",
   "execution_count": 114,
   "id": "19e2cad9",
   "metadata": {},
   "outputs": [
    {
     "name": "stdout",
     "output_type": "stream",
     "text": [
      "Apple      $ 0.99\n",
      "Banana     $ 0.59\n",
      "Orange     $ 1.29\n"
     ]
    }
   ],
   "source": [
    "list = [['Apple', 0.99],['Banana', 0.59], ['Orange', 1.29]]\n",
    "\n",
    "for i in range(len(list)):\n",
    "    print(f'{list[i][0]:10} ${list[i][1]:>5}')"
   ]
  },
  {
   "cell_type": "code",
   "execution_count": 115,
   "id": "211edc45",
   "metadata": {},
   "outputs": [
    {
     "name": "stdout",
     "output_type": "stream",
     "text": [
      "not a number\n"
     ]
    }
   ],
   "source": [
    "try:\n",
    "    user_input = float(input('Enter the student\\'s score:'))\n",
    "    if 70 <= user_input <= 100:\n",
    "        print(\"The student\\'s letter grade is: A\")\n",
    "    elif 50 <= user_input <= 69:\n",
    "        print(\"The student\\'s letter grade is: B\")\n",
    "    elif 35 <= user_input <= 49:\n",
    "        print(\"The student\\'s letter grade is: C\")\n",
    "    elif 0 <= user_input <= 34:\n",
    "        print(\"The student\\'s letter grade is: Fail\")\n",
    "    else:\n",
    "        print(\"Error: Please input the student\\'s score again.\")\n",
    "\n",
    "except:\n",
    "    print(\"not a number\")\n"
   ]
  },
  {
   "cell_type": "code",
   "execution_count": 131,
   "id": "d712867a",
   "metadata": {},
   "outputs": [
    {
     "name": "stdout",
     "output_type": "stream",
     "text": [
      "not an integer\n"
     ]
    }
   ],
   "source": [
    "def factorial(n):\n",
    "    try:\n",
    "        int(n)\n",
    "        if n==0:\n",
    "            return 1\n",
    "        elif n<0:\n",
    "            return \"neg number\"\n",
    "        else:\n",
    "            x = n\n",
    "            for i in range(1,n):\n",
    "                x *= i\n",
    "            return x\n",
    "    except:\n",
    "        print(\"not an integer\")\n",
    "\n",
    "factorial(1.4)\n"
   ]
  },
  {
   "cell_type": "code",
   "execution_count": 134,
   "id": "ab363248",
   "metadata": {},
   "outputs": [
    {
     "name": "stdout",
     "output_type": "stream",
     "text": [
      "['a1', 'c3', 'e5', 'g7', 'i9']\n"
     ]
    }
   ],
   "source": [
    "py_list = [\"a1\", \"b2\", \"c3\", \"d4\", \"e5\", \"f6\", \"g7\", \"h8\", \"i9\", \"j10\"]\n",
    "print(py_list[0::2])"
   ]
  },
  {
   "cell_type": "code",
   "execution_count": 135,
   "id": "9b94e4ba",
   "metadata": {},
   "outputs": [
    {
     "name": "stdout",
     "output_type": "stream",
     "text": [
      "a1\n",
      "c3\n",
      "e5\n",
      "g7\n",
      "i9\n"
     ]
    }
   ],
   "source": [
    "py_list = [\"a1\", \"b2\", \"c3\", \"d4\", \"e5\", \"f6\", \"g7\", \"h8\", \"i9\", \"j10\"]\n",
    "\n",
    "for i in range(len(py_list)):\n",
    "    if i%2==0:\n",
    "        print(py_list[i])\n",
    "    else:\n",
    "        continue"
   ]
  },
  {
   "cell_type": "code",
   "execution_count": 136,
   "id": "44581fa5",
   "metadata": {},
   "outputs": [
    {
     "data": {
      "text/plain": [
       "np.int64(9)"
      ]
     },
     "execution_count": 136,
     "metadata": {},
     "output_type": "execute_result"
    }
   ],
   "source": [
    "numbers=[45, 60, 1, 30, 96, 1, 96, 57, 16, 1,\n",
    "        99, 62, 86, 43, 42, 60, 59, 1, 1, 35,\n",
    "        83, 47, 34, 28, 68, 23, 22, 92, 1, 79,\n",
    "        1, 29, 94, 72, 46, 47, 1, 74, 32, 20,\n",
    "        8, 37, 35, 1, 89, 29, 86, 19, 43, 61]\n",
    "nparray=np.array(numbers)\n",
    "sum(nparray==1)"
   ]
  },
  {
   "cell_type": "code",
   "execution_count": 156,
   "id": "1e9e344c",
   "metadata": {},
   "outputs": [],
   "source": [
    "x_1 = [1, 4, 9, 16, 25, 36, 49, 64, 81, 100]\n",
    "x_2 = [1, 8, 27, 64, 125, 216, 343, 512, 729, 1000]\n",
    "x1 = np.array(x_1)\n",
    "x2 = np.array(x_2)"
   ]
  },
  {
   "cell_type": "code",
   "execution_count": 159,
   "id": "77681338",
   "metadata": {},
   "outputs": [
    {
     "name": "stdout",
     "output_type": "stream",
     "text": [
      "r = 0.9871796626270701\n"
     ]
    }
   ],
   "source": [
    "x1x2 = x1 * x2\n",
    "x1squared = x1 ** 2\n",
    "x2squared = x2 ** 2\n",
    "\n",
    "r = (10*x1x2.sum() \n",
    "     - x1.sum() * x2.sum())/np.sqrt((10*x1squared.sum() - \n",
    "    (x1.sum()) ** 2) * (10*x2squared.sum() - (x2.sum()) ** 2))\n",
    "print ('r =', r)"
   ]
  },
  {
   "cell_type": "code",
   "execution_count": 172,
   "id": "7be85b40",
   "metadata": {},
   "outputs": [
    {
     "data": {
      "text/plain": [
       "array(['A', 'C', 'E', 'G', 'I'], dtype='<U21')"
      ]
     },
     "execution_count": 172,
     "metadata": {},
     "output_type": "execute_result"
    }
   ],
   "source": [
    "np_array_2d = np.array([[1, \"A\"], [3, \"C\"], [2, \"B\"], [4, \"D\"],\n",
    "                        [5, \"E\"], [7, \"G\"], [6, \"F\"], [8, \"H\"],\n",
    "                        [10, \"J\"], [9, \"I\"]])\n",
    "\n",
    "\n",
    "np_array_2d[(np_array_2d[:,0]).astype(int)%2==1,1]\n",
    "# woww this one kinda tricky\n"
   ]
  },
  {
   "cell_type": "code",
   "execution_count": 171,
   "id": "41b6af7f",
   "metadata": {},
   "outputs": [
    {
     "name": "stdout",
     "output_type": "stream",
     "text": [
      "[[ 1  0  1 -1 -1]\n",
      " [ 1 -1  1 -1 -1]\n",
      " [ 1 -1 -1  1 -1]\n",
      " [-1  1  1 -1 -1]\n",
      " [ 1 -1  1 -1  1]]\n"
     ]
    }
   ],
   "source": [
    "np_array_2d = np.array([[66, 50, 57, -1, -1],\n",
    "                        [92, -1, 88, -1, -1],\n",
    "                        [75, -1, -1, 76, -1],\n",
    "                        [-1, 51, 87, -1, -1],\n",
    "                        [71, -1, 67, -1, 69]])\n",
    "np_array_2d[np_array_2d<50] = -1\n",
    "np_array_2d[np_array_2d>50] = 1\n",
    "np_array_2d[np_array_2d==50] = 0\n",
    "\n",
    "# I CAN JUST SET STUFF\n",
    "\n",
    "print(np_array_2d)"
   ]
  }
 ],
 "metadata": {
  "kernelspec": {
   "display_name": "base",
   "language": "python",
   "name": "python3"
  },
  "language_info": {
   "codemirror_mode": {
    "name": "ipython",
    "version": 3
   },
   "file_extension": ".py",
   "mimetype": "text/x-python",
   "name": "python",
   "nbconvert_exporter": "python",
   "pygments_lexer": "ipython3",
   "version": "3.13.5"
  },
  "toc": {
   "base_numbering": 1,
   "nav_menu": {},
   "number_sections": true,
   "sideBar": true,
   "skip_h1_title": false,
   "title_cell": "Table of Contents",
   "title_sidebar": "Contents",
   "toc_cell": false,
   "toc_position": {},
   "toc_section_display": true,
   "toc_window_display": false
  }
 },
 "nbformat": 4,
 "nbformat_minor": 5
}
