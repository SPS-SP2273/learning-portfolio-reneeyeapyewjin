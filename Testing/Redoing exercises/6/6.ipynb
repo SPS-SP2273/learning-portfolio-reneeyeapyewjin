{
 "cells": [
  {
   "cell_type": "code",
   "execution_count": 18,
   "id": "b1d9635e",
   "metadata": {},
   "outputs": [
    {
     "name": "stdout",
     "output_type": "stream",
     "text": [
      "10-08-singapore.txt\n"
     ]
    }
   ],
   "source": [
    "months = {\n",
    "'jan': '01', 'feb': '02', 'mar': '03',\n",
    "'apr': '04', 'may': '05', 'jun': '06',\n",
    "'jul': '07', 'aug': '08', 'sep': '09',\n",
    "'oct': '10', 'nov': '11', 'dec': '12'\n",
    "}\n",
    "\n",
    "original_name = 'oct-08_singapore.txt'\n",
    "month = months[original_name.split('-')[0]]\n",
    "date = (original_name.split('-')[1]).split('_')[0]\n",
    "country = original_name.split('_')[1]\n",
    "new_name = f'{month}-{date}-{country}'\n",
    "\n",
    "print(new_name)"
   ]
  },
  {
   "cell_type": "code",
   "execution_count": 20,
   "id": "4c20e6c3",
   "metadata": {},
   "outputs": [
    {
     "data": {
      "text/plain": [
       "'10-08-singapore.txt'"
      ]
     },
     "execution_count": 20,
     "metadata": {},
     "output_type": "execute_result"
    }
   ],
   "source": [
    "def rename_my_file(old_file_name):\n",
    "    month = months[old_file_name.split('-')[0]]\n",
    "    date = (old_file_name.split('-')[1]).split('_')[0]\n",
    "    country = old_file_name.split('_')[1]\n",
    "    new_name = f'{month}-{date}-{country}'\n",
    "    return new_name\n",
    "\n",
    "rename_my_file('oct-08_singapore.txt')"
   ]
  },
  {
   "cell_type": "code",
   "execution_count": 25,
   "id": "0bc1b5c9",
   "metadata": {},
   "outputs": [
    {
     "name": "stdout",
     "output_type": "stream",
     "text": [
      "oct-08_singapore.txt ----> 10-08-singapore.txt\n",
      "jul-10_cairo.txt ----> 07-10-cairo.txt\n",
      "may-15_dhaka.txt ----> 05-15-dhaka.txt\n",
      "may-13_cairo.txt ----> 05-13-cairo.txt\n",
      "oct-21_cairo.txt ----> 10-21-cairo.txt\n",
      "jan-10_singapore.txt ----> 01-10-singapore.txt\n",
      "jun-20_tokyo.txt ----> 06-20-tokyo.txt\n",
      "aug-06_jakarta.txt ----> 08-06-jakarta.txt\n",
      "dec-21_karachi.txt ----> 12-21-karachi.txt\n",
      "jan-01_tokyo.txt ----> 01-01-tokyo.txt\n"
     ]
    }
   ],
   "source": [
    "files = ['oct-08_singapore.txt', 'jul-10_cairo.txt', 'may-15_dhaka.txt',\n",
    " 'may-13_cairo.txt', 'oct-21_cairo.txt', 'jan-10_singapore.txt',\n",
    " 'jun-20_tokyo.txt', 'aug-06_jakarta.txt', 'dec-21_karachi.txt',\n",
    " 'jan-01_tokyo.txt']\n",
    "\n",
    "for file in files:\n",
    "    print(f'{file} ----> {rename_my_file(file)}')"
   ]
  },
  {
   "cell_type": "code",
   "execution_count": 26,
   "id": "554796d1",
   "metadata": {},
   "outputs": [],
   "source": [
    "import glob\n",
    "import os\n",
    "import shutil"
   ]
  },
  {
   "cell_type": "code",
   "execution_count": 38,
   "id": "656c061e",
   "metadata": {},
   "outputs": [],
   "source": [
    "paths = glob.glob('os-collaboration-exercise-data/*.txt')\n",
    "for path in paths:\n",
    "    try:\n",
    "        file_name = (os.path.split(path)[1])\n",
    "        new_file_name = rename_my_file(file_name)\n",
    "        new_path = os.path.join('os-collaboration-exercise-data', new_file_name)\n",
    "        os.rename(path, new_path)\n",
    "    except:\n",
    "        continue"
   ]
  },
  {
   "cell_type": "code",
   "execution_count": 39,
   "id": "0a171f12",
   "metadata": {},
   "outputs": [],
   "source": [
    "cities = ['Cairo', 'Dhaka', 'Jakarta', 'Karachi', 'Manila',\n",
    " 'Melbourne', 'Osaka', 'Shanghai', 'Singapore', 'Tokyo']\n",
    "\n",
    "for city in cities:\n",
    "    os.mkdir(city)"
   ]
  },
  {
   "cell_type": "code",
   "execution_count": 46,
   "id": "84b707d6",
   "metadata": {},
   "outputs": [],
   "source": [
    "cairo_files = glob.glob('os-collaboration-exercise-data/*cairo.txt')\n",
    "for cairo_file in cairo_files:\n",
    "    shutil.copy(cairo_file, 'Cairo')"
   ]
  },
  {
   "cell_type": "code",
   "execution_count": 49,
   "id": "ab9fa1a1",
   "metadata": {},
   "outputs": [],
   "source": [
    "for city in cities:\n",
    "    files = glob.glob(f'os-collaboration-exercise-data/*{city.lower()}.txt')\n",
    "    for file in files:\n",
    "        new_path = os.path.join(city, os.path.split(file)[1])\n",
    "        shutil.move(file, new_path)\n"
   ]
  }
 ],
 "metadata": {
  "kernelspec": {
   "display_name": "base",
   "language": "python",
   "name": "python3"
  },
  "language_info": {
   "codemirror_mode": {
    "name": "ipython",
    "version": 3
   },
   "file_extension": ".py",
   "mimetype": "text/x-python",
   "name": "python",
   "nbconvert_exporter": "python",
   "pygments_lexer": "ipython3",
   "version": "3.13.5"
  }
 },
 "nbformat": 4,
 "nbformat_minor": 5
}
