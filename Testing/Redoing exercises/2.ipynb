{
 "cells": [
  {
   "cell_type": "code",
   "execution_count": 5,
   "id": "c35568df",
   "metadata": {},
   "outputs": [
    {
     "name": "stdout",
     "output_type": "stream",
     "text": [
      "3 4 5\n"
     ]
    }
   ],
   "source": [
    "import math\n",
    "\n",
    "x, y = 3, 4\n",
    "z = math.sqrt(x**2 + y**2)\n",
    "print(x, y, f'{z:.0f}')"
   ]
  },
  {
   "cell_type": "code",
   "execution_count": 8,
   "id": "60bfb5f6",
   "metadata": {},
   "outputs": [
    {
     "name": "stdout",
     "output_type": "stream",
     "text": [
      "my name is renee and I am 19 years old\n"
     ]
    }
   ],
   "source": [
    "name = input('name')\n",
    "age = input('age')\n",
    "\n",
    "print(f'my name is {name} and I am {age} years old')"
   ]
  },
  {
   "cell_type": "code",
   "execution_count": 10,
   "id": "229be6fc",
   "metadata": {},
   "outputs": [
    {
     "name": "stdout",
     "output_type": "stream",
     "text": [
      "Apple      $ 0.99\n",
      "Banana     $ 0.59\n",
      "Orange     $ 1.29\n"
     ]
    }
   ],
   "source": [
    "fruits = ['Apple', 'Banana', 'Orange']\n",
    "price = [0.99, 0.59, 1.29]\n",
    "\n",
    "for fruit, price in zip(fruits, price):\n",
    "    print(f'{fruit:10} ${price:>5}')"
   ]
  },
  {
   "cell_type": "code",
   "execution_count": 13,
   "id": "d467566b",
   "metadata": {},
   "outputs": [
    {
     "name": "stdout",
     "output_type": "stream",
     "text": [
      "the student's grade is: B\n"
     ]
    }
   ],
   "source": [
    "mark = float(input('enter the student\\'s score'))\n",
    "text = \"the student's grade is:\"\n",
    "\n",
    "if 70<=mark <=100:\n",
    "    print(f'{text} A')\n",
    "elif 50<=mark <=69:\n",
    "    print(f'{text} B')\n",
    "elif 35<=mark <=49:\n",
    "    print(f'{text} B')\n",
    "else:\n",
    "    print(f'{text} Fail')\n"
   ]
  },
  {
   "cell_type": "code",
   "execution_count": 14,
   "id": "7ac4cfd4",
   "metadata": {},
   "outputs": [
    {
     "name": "stdout",
     "output_type": "stream",
     "text": [
      "120\n",
      "Invalid input\n"
     ]
    }
   ],
   "source": [
    "def factorial(n):\n",
    "    if n < 0:\n",
    "        return \"Invalid input\"\n",
    "    elif n == 0:\n",
    "        return 1\n",
    "    else:\n",
    "        result = 1\n",
    "        for number in range(1, n+1):\n",
    "            result *= number\n",
    "        return result\n",
    "\n",
    "\n",
    "print(factorial(5))   # Testing, expected output: 120\n",
    "print(factorial(-1))  # Testing, expected output: Invalid input"
   ]
  }
 ],
 "metadata": {
  "kernelspec": {
   "display_name": "base",
   "language": "python",
   "name": "python3"
  },
  "language_info": {
   "codemirror_mode": {
    "name": "ipython",
    "version": 3
   },
   "file_extension": ".py",
   "mimetype": "text/x-python",
   "name": "python",
   "nbconvert_exporter": "python",
   "pygments_lexer": "ipython3",
   "version": "3.13.5"
  }
 },
 "nbformat": 4,
 "nbformat_minor": 5
}
