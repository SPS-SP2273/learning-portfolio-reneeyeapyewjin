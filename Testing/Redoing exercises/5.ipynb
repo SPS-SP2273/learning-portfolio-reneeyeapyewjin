{
 "cells": [
  {
   "cell_type": "code",
   "execution_count": 14,
   "id": "0f25bdf5",
   "metadata": {},
   "outputs": [
    {
     "data": {
      "text/plain": [
       "'overweight'"
      ]
     },
     "execution_count": 14,
     "metadata": {},
     "output_type": "execute_result"
    }
   ],
   "source": [
    "def calculate_bmi(weight, height):\n",
    "    bmi=weight/(height**2)\n",
    "    if bmi<18.5:\n",
    "        return 'underweight'\n",
    "    elif 18.5 <= bmi < 25:\n",
    "        return 'normal weight'\n",
    "    elif 25 <= bmi < 30:\n",
    "        return 'overweight'\n",
    "    else:\n",
    "        return 'obese'\n",
    "    \n",
    "\n",
    "calculate_bmi(70,1.6)"
   ]
  },
  {
   "cell_type": "code",
   "execution_count": 19,
   "id": "d9c8bfc4",
   "metadata": {},
   "outputs": [
    {
     "data": {
      "text/plain": [
       "'not an integer'"
      ]
     },
     "execution_count": 19,
     "metadata": {},
     "output_type": "execute_result"
    }
   ],
   "source": [
    "def factorial(n):\n",
    "    if n>0:\n",
    "        answer = n\n",
    "        try:\n",
    "            for number in range (1, n):\n",
    "                answer *= number\n",
    "            return answer\n",
    "        except:\n",
    "            return \"not an integer\"\n",
    "    elif n==0:\n",
    "        return 1\n",
    "    else:\n",
    "        return \"Factorials are not defined for negative numbers\"\n",
    "\n",
    "\n",
    "factorial(1.4)"
   ]
  },
  {
   "cell_type": "code",
   "execution_count": 23,
   "id": "86ef5bfc",
   "metadata": {},
   "outputs": [
    {
     "data": {
      "text/plain": [
       "313.15"
      ]
     },
     "execution_count": 23,
     "metadata": {},
     "output_type": "execute_result"
    }
   ],
   "source": [
    "def convert_celsius(temperature_celsius, target_scale = 'Fahrenheit'):\n",
    "    if target_scale == 'Kelvin':\n",
    "        temperature_kelvin = temperature_celsius + 273.15\n",
    "        return temperature_kelvin\n",
    "    else:\n",
    "        temperature_fahrenheit = temperature_celsius * 9/5 + 32\n",
    "        return temperature_fahrenheit\n",
    "    \n",
    "\n",
    "convert_celsius(40, 'Kelvin')\n"
   ]
  }
 ],
 "metadata": {
  "kernelspec": {
   "display_name": "base",
   "language": "python",
   "name": "python3"
  },
  "language_info": {
   "codemirror_mode": {
    "name": "ipython",
    "version": 3
   },
   "file_extension": ".py",
   "mimetype": "text/x-python",
   "name": "python",
   "nbconvert_exporter": "python",
   "pygments_lexer": "ipython3",
   "version": "3.13.5"
  }
 },
 "nbformat": 4,
 "nbformat_minor": 5
}
