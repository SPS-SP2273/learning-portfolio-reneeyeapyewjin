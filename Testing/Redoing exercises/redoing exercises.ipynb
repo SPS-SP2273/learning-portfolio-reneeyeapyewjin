{
 "cells": [
  {
   "cell_type": "code",
   "execution_count": 2,
   "id": "ea484520",
   "metadata": {},
   "outputs": [],
   "source": [
    "import os"
   ]
  },
  {
   "cell_type": "code",
   "execution_count": null,
   "id": "e1690747",
   "metadata": {},
   "outputs": [],
   "source": [
    "for i in range(1,8):\n",
    "    if not os.path.exists(f\"{i}\"):\n",
    "        os.mkdir(f\"{i}\")"
   ]
  },
  {
   "cell_type": "code",
   "execution_count": 3,
   "id": "db1b5e18",
   "metadata": {},
   "outputs": [],
   "source": [
    "os.rmdir('1')"
   ]
  }
 ],
 "metadata": {
  "kernelspec": {
   "display_name": "base",
   "language": "python",
   "name": "python3"
  },
  "language_info": {
   "codemirror_mode": {
    "name": "ipython",
    "version": 3
   },
   "file_extension": ".py",
   "mimetype": "text/x-python",
   "name": "python",
   "nbconvert_exporter": "python",
   "pygments_lexer": "ipython3",
   "version": "3.13.5"
  }
 },
 "nbformat": 4,
 "nbformat_minor": 5
}
