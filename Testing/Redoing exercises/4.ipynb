{
 "cells": [
  {
   "cell_type": "code",
   "execution_count": null,
   "id": "b20473ca",
   "metadata": {},
   "outputs": [
    {
     "name": "stdout",
     "output_type": "stream",
     "text": [
      "0 32.0\n",
      "5 41.0\n",
      "10 50.0\n",
      "15 59.0\n",
      "20 68.0\n",
      "25 77.0\n",
      "30 86.0\n",
      "35 95.0\n",
      "40 104.0\n",
      "45 113.0\n",
      "50 122.0\n"
     ]
    }
   ],
   "source": [
    "temperatures_celsius = [\n",
    "    0, 5, 10, 15, 20, 25,\n",
    "    30, 35, 40, 45, 50\n",
    "]\n",
    "\n",
    "for temp in temperatures_celsius:\n",
    "    tempf = temp * (9/5) + 32\n",
    "    print(temp, tempf)"
   ]
  },
  {
   "cell_type": "code",
   "execution_count": 5,
   "id": "47f364cc",
   "metadata": {},
   "outputs": [
    {
     "name": "stdout",
     "output_type": "stream",
     "text": [
      "1 : 1    2    3    4    5    \n",
      "\n",
      "2 : 2    4    6    8    10   \n",
      "\n",
      "3 : 3    6    9    12   15   \n",
      "\n",
      "4 : 4    8    12   16   20   \n",
      "\n",
      "5 : 5    10   15   20   25   \n",
      "\n"
     ]
    }
   ],
   "source": [
    "for number in range(1,6):\n",
    "    print(f'{number} : ', end='')\n",
    "    for number2 in range(1,6):\n",
    "        print(f'{number2*number:<5}', end = '')\n",
    "    print('\\n')"
   ]
  },
  {
   "cell_type": "code",
   "execution_count": null,
   "id": "d64c602c",
   "metadata": {},
   "outputs": [],
   "source": [
    "import numpy as np"
   ]
  },
  {
   "cell_type": "code",
   "execution_count": 22,
   "id": "5178036c",
   "metadata": {},
   "outputs": [
    {
     "name": "stdout",
     "output_type": "stream",
     "text": [
      "Experiment 1: No. of Heads = 5\n",
      "Experiment 2: No. of Heads = 4\n",
      "Experiment 3: No. of Heads = 6\n",
      "Experiment 4: No. of Heads = 2\n",
      "Experiment 5: No. of Heads = 4\n",
      "Experiment 6: No. of Heads = 6\n",
      "Experiment 7: No. of Heads = 4\n",
      "Experiment 8: No. of Heads = 5\n",
      "Experiment 9: No. of Heads = 5\n",
      "Experiment 10: No. of Heads = 6\n"
     ]
    }
   ],
   "source": [
    "for experiment in range(1,11):\n",
    "    flips = np.random.rand(10)\n",
    "    print(f'Experiment {experiment}: No. of Heads = {sum(flips>0.5)}')\n",
    "\n",
    "\n"
   ]
  },
  {
   "cell_type": "code",
   "execution_count": null,
   "id": "ce7100f4",
   "metadata": {},
   "outputs": [
    {
     "name": "stdout",
     "output_type": "stream",
     "text": [
      "[1, 9, 25, 49, 81]\n"
     ]
    }
   ],
   "source": [
    "squares = []\n",
    "\n",
    "for i in range(0,10):\n",
    "    if i%2 == 1:\n",
    "        squares.append(i**2)\n",
    "\n",
    "\n",
    "copyright\n",
    "\n",
    "\n"
   ]
  },
  {
   "cell_type": "code",
   "execution_count": null,
   "id": "8933c030",
   "metadata": {},
   "outputs": [
    {
     "data": {
      "text/plain": [
       "[1, 9, 25, 49, 81]"
      ]
     },
     "execution_count": 37,
     "metadata": {},
     "output_type": "execute_result"
    }
   ],
   "source": [
    "[i**2 for i in range(0,10) if i%2 == 1]"
   ]
  },
  {
   "cell_type": "code",
   "execution_count": 43,
   "id": "d20be66f",
   "metadata": {},
   "outputs": [
    {
     "name": "stdout",
     "output_type": "stream",
     "text": [
      "95.0 1\n",
      "90.25 2\n",
      "85.7375 3\n",
      "81.45062499999999 4\n",
      "77.37809374999999 5\n",
      "73.50918906249998 6\n",
      "69.83372960937498 7\n",
      "66.34204312890623 8\n",
      "63.02494097246091 9\n",
      "59.87369392383786 10\n",
      "56.880009227645964 11\n",
      "54.03600876626366 12\n",
      "51.33420832795048 13\n",
      "48.76749791155295 14\n"
     ]
    }
   ],
   "source": [
    "count = 0\n",
    "radio = 100\n",
    "\n",
    "while radio>50:\n",
    "    radio *= 0.95\n",
    "    count += 1\n",
    "    print(radio, count)\n",
    "\n",
    "\n"
   ]
  },
  {
   "cell_type": "code",
   "execution_count": 61,
   "id": "bbd0659a",
   "metadata": {},
   "outputs": [
    {
     "name": "stdout",
     "output_type": "stream",
     "text": [
      "2016 3.410\n"
     ]
    }
   ],
   "source": [
    "co2_data = [\n",
    "    (2000, 369.55), (2001, 371.14), (2002, 373.28), \n",
    "    (2003, 375.80), (2004, 377.52), (2005, 379.80), \n",
    "    (2006, 381.90), (2007, 383.79), (2008, 385.60), \n",
    "    (2009, 387.43), (2010, 389.90), (2011, 391.65), \n",
    "    (2012, 393.85), (2013, 396.52), (2014, 398.65),\n",
    "    (2015, 400.83), (2016, 404.24), (2017, 406.55), \n",
    "    (2018, 408.52), (2019, 411.44), (2020, 414.24)\n",
    "]\n",
    "\n",
    "for index, data in enumerate(co2_data):\n",
    "    if co2_data[index][1] - co2_data[index-1][1] >=3:\n",
    "        print(data[0], f'{co2_data[index][1] - co2_data[index-1][1]:.3f}')"
   ]
  },
  {
   "cell_type": "code",
   "execution_count": 66,
   "id": "335883e4",
   "metadata": {},
   "outputs": [
    {
     "name": "stdout",
     "output_type": "stream",
     "text": [
      "from 2015 to 2016, there was an increase of 3.410 ppm\n"
     ]
    }
   ],
   "source": [
    "for i in range(1, len(co2_data)):\n",
    "    diff = co2_data[i][1]-co2_data[i-1][1]\n",
    "    if diff >=3:\n",
    "        print(f'from {co2_data[i-1][0]} to {co2_data[i][0]}, there was an increase of {diff:.3f} ppm')"
   ]
  }
 ],
 "metadata": {
  "kernelspec": {
   "display_name": "base",
   "language": "python",
   "name": "python3"
  },
  "language_info": {
   "codemirror_mode": {
    "name": "ipython",
    "version": 3
   },
   "file_extension": ".py",
   "mimetype": "text/x-python",
   "name": "python",
   "nbconvert_exporter": "python",
   "pygments_lexer": "ipython3",
   "version": "3.13.5"
  }
 },
 "nbformat": 4,
 "nbformat_minor": 5
}
