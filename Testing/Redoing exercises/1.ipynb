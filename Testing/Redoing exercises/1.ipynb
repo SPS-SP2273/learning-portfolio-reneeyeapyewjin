{
 "cells": [
  {
   "cell_type": "markdown",
   "id": "6abdf95b",
   "metadata": {},
   "source": [
    "## Introduction"
   ]
  },
  {
   "cell_type": "markdown",
   "id": "03a7d9a8",
   "metadata": {},
   "source": [
    "![](https://upload.wikimedia.org/wikipedia/commons/thumb/f/f8/Polynomialdeg2.svg/300px-Polynomialdeg2.svg.png)\n",
    "\n",
    "*(Image from the Wikipedia page on [Quadratic equations](https://en.wikipedia.org/wiki/Quadratic_equation))*"
   ]
  },
  {
   "cell_type": "markdown",
   "id": "d9d38526",
   "metadata": {},
   "source": [
    "$$\n",
    "ax^2 + bx + c = 0\n",
    "$$"
   ]
  },
  {
   "cell_type": "markdown",
   "id": "103eb6d5",
   "metadata": {},
   "source": [
    "$x = \\dfrac{-b\\pm \\sqrt{b^2-4ac}}{2a}$"
   ]
  },
  {
   "cell_type": "markdown",
   "id": "8e28e9c0",
   "metadata": {},
   "source": [
    "|Discriminant|Roots|\n",
    "|:--:|:--|\n",
    "|$\\Delta = b^2 - 4ac = 0$|A single solution of $-b/(2a)$|"
   ]
  }
 ],
 "metadata": {
  "kernelspec": {
   "display_name": "base",
   "language": "python",
   "name": "python3"
  },
  "language_info": {
   "codemirror_mode": {
    "name": "ipython",
    "version": 3
   },
   "file_extension": ".py",
   "mimetype": "text/x-python",
   "name": "python",
   "nbconvert_exporter": "python",
   "pygments_lexer": "ipython3",
   "version": "3.13.5"
  }
 },
 "nbformat": 4,
 "nbformat_minor": 5
}
