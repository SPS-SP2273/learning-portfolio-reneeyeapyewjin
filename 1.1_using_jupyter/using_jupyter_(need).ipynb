{
 "cells": [
  {
   "attachments": {},
   "cell_type": "markdown",
   "id": "123456",
   "metadata": {},
   "source": [
    "<div style=\"text-align:left;font-size:2em\"><span style=\"font-weight:bolder;font-size:1.25em\">SP2273 | Learning Portfolio</span><br><br><span style=\"font-weight:bold;color:darkred\">Using Jupyter (Need)</span></div>"
   ]
  },
  {
   "attachments": {},
   "cell_type": "markdown",
   "id": "28ce5bf5",
   "metadata": {},
   "source": [
    "# What to expect in this chapter"
   ]
  },
  {
   "attachments": {},
   "cell_type": "markdown",
   "id": "ed6fd289",
   "metadata": {},
   "source": [
    "# 1 Getting ready"
   ]
  },
  {
   "attachments": {},
   "cell_type": "markdown",
   "id": "4c41e395",
   "metadata": {},
   "source": [
    "# 2 Getting started with Jupyter"
   ]
  },
  {
   "attachments": {},
   "cell_type": "markdown",
   "id": "23316a5b",
   "metadata": {},
   "source": [
    "## 2.1 It is all about running cells"
   ]
  },
  {
   "attachments": {},
   "cell_type": "markdown",
   "id": "6833a9c3",
   "metadata": {},
   "source": [
    "## 2.2 A traditional start"
   ]
  },
  {
   "cell_type": "code",
   "execution_count": 3,
   "id": "73d75de2",
   "metadata": {},
   "outputs": [
    {
     "name": "stdout",
     "output_type": "stream",
     "text": [
      "Hello Hello Hello Hello Hello Hello Hello Hello Hello Hello \n"
     ]
    }
   ],
   "source": [
    "print('Hello ' *10)"
   ]
  },
  {
   "attachments": {},
   "cell_type": "markdown",
   "id": "10d5a725",
   "metadata": {},
   "source": [
    "# 3 All about Markdown"
   ]
  },
  {
   "attachments": {},
   "cell_type": "markdown",
   "id": "f4b47972",
   "metadata": {},
   "source": [
    "## 3.1 Rendering Markdown cells"
   ]
  },
  {
   "cell_type": "markdown",
   "id": "552502e5",
   "metadata": {},
   "source": [
    "[SP2273 Website](https://sps.nus.edu.sg/sp2273)"
   ]
  },
  {
   "cell_type": "markdown",
   "id": "d679aef5",
   "metadata": {},
   "source": [
    "![](https://nus.edu.sg/images/default-source/base/logo.png)"
   ]
  },
  {
   "cell_type": "markdown",
   "id": "17b4a4c4",
   "metadata": {},
   "source": [
    "<sub>*hello*</sub> hello"
   ]
  },
  {
   "attachments": {},
   "cell_type": "markdown",
   "id": "d85cc5af",
   "metadata": {},
   "source": [
    "## 3.2 Some basic syntax"
   ]
  },
  {
   "attachments": {},
   "cell_type": "markdown",
   "id": "84766eea",
   "metadata": {},
   "source": [
    "## 3.3 Headings"
   ]
  },
  {
   "attachments": {},
   "cell_type": "markdown",
   "id": "e6e7f4bd",
   "metadata": {},
   "source": [
    "## 3.4 Displaying Code"
   ]
  },
  {
   "attachments": {},
   "cell_type": "markdown",
   "id": "317fcdd1",
   "metadata": {},
   "source": [
    "## 3.5 Links"
   ]
  },
  {
   "attachments": {},
   "cell_type": "markdown",
   "id": "8781151a",
   "metadata": {},
   "source": [
    "## 3.6 Images"
   ]
  },
  {
   "attachments": {},
   "cell_type": "markdown",
   "id": "4efe0d04",
   "metadata": {},
   "source": [
    "## 3.7 Tables"
   ]
  },
  {
   "attachments": {},
   "cell_type": "markdown",
   "id": "43cd0b90",
   "metadata": {},
   "source": [
    "## 3.8 Lists"
   ]
  },
  {
   "attachments": {},
   "cell_type": "markdown",
   "id": "ea7a16ab",
   "metadata": {},
   "source": [
    "## 3.9 Equations"
   ]
  },
  {
   "attachments": {},
   "cell_type": "markdown",
   "id": "c3ec90af",
   "metadata": {},
   "source": [
    "## Footnotes"
   ]
  }
 ],
 "metadata": {
  "kernelspec": {
   "display_name": "Python 3 (ipykernel)",
   "language": "python",
   "name": "python3"
  },
  "language_info": {
   "codemirror_mode": {
    "name": "ipython",
    "version": 3
   },
   "file_extension": ".py",
   "mimetype": "text/x-python",
   "name": "python",
   "nbconvert_exporter": "python",
   "pygments_lexer": "ipython3",
   "version": "3.13.5"
  },
  "toc": {
   "base_numbering": 1,
   "nav_menu": {},
   "number_sections": true,
   "sideBar": true,
   "skip_h1_title": false,
   "title_cell": "Table of Contents",
   "title_sidebar": "Contents",
   "toc_cell": false,
   "toc_position": {},
   "toc_section_display": true,
   "toc_window_display": false
  }
 },
 "nbformat": 4,
 "nbformat_minor": 5
}
