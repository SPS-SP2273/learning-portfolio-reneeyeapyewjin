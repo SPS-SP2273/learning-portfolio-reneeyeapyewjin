{
 "cells": [
  {
   "attachments": {},
   "cell_type": "markdown",
   "id": "123456",
   "metadata": {},
   "source": [
    "<div style=\"text-align:left;font-size:2em\"><span style=\"font-weight:bolder;font-size:1.25em\">SP2273 | Learning Portfolio</span><br><br><span style=\"font-weight:bold;color:darkred\">Storing Data (Good) Exercises</span></div>"
   ]
  },
  {
   "cell_type": "markdown",
   "id": "5051b669",
   "metadata": {},
   "source": [
    "## Exercise 1 (Total recall)"
   ]
  },
  {
   "cell_type": "markdown",
   "id": "45b6f2b1",
   "metadata": {},
   "source": [
    "|Term|Brief Description|\n",
    "|:--|:--|\n",
    "|Subsetting|Selecting data from a list|\n",
    "|Indexing|Selecting just one element|\n",
    "|Slicing|Selecting a range of elements|\n",
    "|Masking|Only showing elements that fit a certain criteria|"
   ]
  },
  {
   "cell_type": "markdown",
   "id": "ed4b3b15",
   "metadata": {},
   "source": [
    "## Exercise 2 (Show me the ‘odd’ letters) "
   ]
  },
  {
   "cell_type": "code",
   "execution_count": null,
   "id": "e2df24c4",
   "metadata": {},
   "outputs": [
    {
     "data": {
      "text/plain": [
       "array(['A', 'C', 'E', 'G', 'I'], dtype='<U21')"
      ]
     },
     "execution_count": 34,
     "metadata": {},
     "output_type": "execute_result"
    }
   ],
   "source": [
    "import numpy as np\n",
    "np_array_2d = np.array([[1, \"A\"], [3, \"C\"], [2, \"B\"], [4, \"D\"],\n",
    "                        [5, \"E\"], [7, \"G\"], [6, \"F\"], [8, \"H\"],\n",
    "                        [10, \"J\"], [9, \"I\"]])\n",
    "array1 = np_array_2d[:,0].astype(int) % 2   # array1 is [1, 1, 0, 0, 1, 1, 0, 0, 0, 1]\n",
    "array2 = np_array_2d[array1 == 1]\n",
    "array2[:,1]"
   ]
  },
  {
   "cell_type": "markdown",
   "id": "74b80f1b",
   "metadata": {},
   "source": [
    "## Exercise 3  "
   ]
  },
  {
   "cell_type": "code",
   "execution_count": 37,
   "id": "9cd72cdb",
   "metadata": {},
   "outputs": [
    {
     "data": {
      "text/plain": [
       "array([66, 57, 92, 88, 75, 76, 51, 87, 71, 67, 69])"
      ]
     },
     "execution_count": 37,
     "metadata": {},
     "output_type": "execute_result"
    }
   ],
   "source": [
    "np_array_2d = np.array([[66, 50, 57, -1, -1],\n",
    "                        [92, -1, 88, -1, -1],\n",
    "                        [75, -1, -1, 76, -1],\n",
    "                        [-1, 51, 87, -1, -1],\n",
    "                        [71, -1, 67, -1, 69]])\n",
    "np_array_2d[np_array_2d>50]\n"
   ]
  },
  {
   "cell_type": "code",
   "execution_count": null,
   "id": "49e596dc",
   "metadata": {},
   "outputs": [],
   "source": []
  }
 ],
 "metadata": {
  "kernelspec": {
   "display_name": "base",
   "language": "python",
   "name": "python3"
  },
  "language_info": {
   "codemirror_mode": {
    "name": "ipython",
    "version": 3
   },
   "file_extension": ".py",
   "mimetype": "text/x-python",
   "name": "python",
   "nbconvert_exporter": "python",
   "pygments_lexer": "ipython3",
   "version": "3.13.5"
  },
  "toc": {
   "base_numbering": 1,
   "nav_menu": {},
   "number_sections": true,
   "sideBar": true,
   "skip_h1_title": false,
   "title_cell": "Table of Contents",
   "title_sidebar": "Contents",
   "toc_cell": false,
   "toc_position": {},
   "toc_section_display": true,
   "toc_window_display": false
  }
 },
 "nbformat": 4,
 "nbformat_minor": 5
}
