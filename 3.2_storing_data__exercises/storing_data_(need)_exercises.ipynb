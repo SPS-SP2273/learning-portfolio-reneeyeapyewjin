{
 "cells": [
  {
   "attachments": {},
   "cell_type": "markdown",
   "id": "123456",
   "metadata": {},
   "source": [
    "<div style=\"text-align:left;font-size:2em\"><span style=\"font-weight:bolder;font-size:1.25em\">SP2273 | Learning Portfolio</span><br><br><span style=\"font-weight:bold;color:darkred\">Storing Data (Need) Exercises</span></div>"
   ]
  },
  {
   "cell_type": "markdown",
   "id": "f30785bc",
   "metadata": {},
   "source": [
    "## Exercise 1 (Total recall?)"
   ]
  },
  {
   "cell_type": "markdown",
   "id": "16ed57d6",
   "metadata": {
    "vscode": {
     "languageId": "plaintext"
    }
   },
   "source": [
    "1. The order of the data stored matters and we can use both to find the sum, min and max of a set of values.\n",
    "2. Lists cannot handle operations like +100 while arrays can. Lists can store multiple data types while arrays can only store a single type.\n",
    "3. Dictionaries store keys and their associated values."
   ]
  },
  {
   "cell_type": "markdown",
   "id": "6dd8d8cb",
   "metadata": {},
   "source": [
    "## Exercise 2 (Indexing)"
   ]
  },
  {
   "cell_type": "code",
   "execution_count": 1,
   "id": "8878ee3e",
   "metadata": {},
   "outputs": [
    {
     "name": "stdout",
     "output_type": "stream",
     "text": [
      "a1\n",
      "c3\n",
      "e5\n",
      "g7\n",
      "i9\n"
     ]
    }
   ],
   "source": [
    "py_list = [\"a1\", \"b2\", \"c3\", \"d4\", \"e5\", \"f6\", \"g7\", \"h8\", \"i9\", \"j10\"]\n",
    "print(py_list[0])   # Prints 'a1'\n",
    "print(py_list[2])   # Prints 'c3'\n",
    "print(py_list[4])   # Prints 'e5'\n",
    "print(py_list[6])   # Prints 'g7'\n",
    "print(py_list[8])   # Prints 'i9'"
   ]
  },
  {
   "cell_type": "markdown",
   "id": "d15b1c89",
   "metadata": {},
   "source": [
    "## Exercise 3 (Index again)"
   ]
  },
  {
   "cell_type": "code",
   "execution_count": 2,
   "id": "66ad8951",
   "metadata": {},
   "outputs": [
    {
     "name": "stdout",
     "output_type": "stream",
     "text": [
      "Boron\n",
      "Boron\n"
     ]
    }
   ],
   "source": [
    "elements = ['Hydrogen',\n",
    "            'Helium', 'Lithium',\n",
    "            'Beryllium', 'Boron', 'Carbon',\n",
    "            'Nitrogen', 'Oxygen',\n",
    "            'Fluorine',\n",
    "            'Neon']\n",
    "\n",
    "print (elements[4])\n",
    "print (elements[-6])"
   ]
  },
  {
   "cell_type": "markdown",
   "id": "8f4bfb0f",
   "metadata": {},
   "source": [
    "## Exercise 4 (How many ones) "
   ]
  },
  {
   "cell_type": "code",
   "execution_count": 43,
   "id": "010dee1f",
   "metadata": {},
   "outputs": [
    {
     "name": "stdout",
     "output_type": "stream",
     "text": [
      "9\n"
     ]
    }
   ],
   "source": [
    "numbers=[45, 60, 1, 30, 96, 1, 96, 57, 16, 1,\n",
    "        99, 62, 86, 43, 42, 60, 59, 1, 1, 35,\n",
    "        83, 47, 34, 28, 68, 23, 22, 92, 1, 79,\n",
    "        1, 29, 94, 72, 46, 47, 1, 74, 32, 20,\n",
    "        8, 37, 35, 1, 89, 29, 86, 19, 43, 61]  \n",
    "import numpy as np\n",
    "np_numbers = np.array(numbers)\n",
    "np_numbers == 1\n",
    "print(sum(np_numbers == 1))"
   ]
  },
  {
   "cell_type": "markdown",
   "id": "b7689856",
   "metadata": {},
   "source": [
    "## Exercise 5 (A Matter of Statistics)"
   ]
  },
  {
   "cell_type": "code",
   "execution_count": 44,
   "id": "c4ee2421",
   "metadata": {},
   "outputs": [
    {
     "name": "stdout",
     "output_type": "stream",
     "text": [
      "The mean of x1 and x2 are 38.5 and 302.5 respectively\n",
      "The standard deviation of x1 is 32.420 (3 d.p.) and 326.089 (3 d.p.) respectively\n"
     ]
    }
   ],
   "source": [
    "x_1 = [1, 4, 9, 16, 25, 36, 49, 64, 81, 100]\n",
    "x_2 = [1, 8, 27, 64, 125, 216, 343, 512, 729, 1000]\n",
    "x1 = np.array(x_1)\n",
    "x2 = np.array(x_2)\n",
    "print(f'The mean of x1 and x2 are {x1.mean()} and {x2.mean()} respectively')\n",
    "print(f'The standard deviation of x1 is {x1.std():.3f} (3 d.p.) and {x2.std():.3f} (3 d.p.) respectively')\n"
   ]
  },
  {
   "cell_type": "code",
   "execution_count": 45,
   "id": "9c5d5758",
   "metadata": {},
   "outputs": [
    {
     "name": "stdout",
     "output_type": "stream",
     "text": [
      "r = 0.9871796626270701\n"
     ]
    }
   ],
   "source": [
    "x1x2 = x1 * x2\n",
    "x1squared = x1 ** 2\n",
    "x2squared = x2 ** 2\n",
    "import math\n",
    "r = (10*x1x2.sum() - x1.sum() * x2.sum())/math.sqrt((10*x1squared.sum() - (x1.sum()) ** 2) * (10*x2squared.sum() - (x2.sum()) ** 2))\n",
    "print ('r =', r)"
   ]
  },
  {
   "cell_type": "code",
   "execution_count": 46,
   "id": "c79aa9c5",
   "metadata": {},
   "outputs": [
    {
     "data": {
      "text/plain": [
       "array([[1.        , 0.98717966],\n",
       "       [0.98717966, 1.        ]])"
      ]
     },
     "execution_count": 46,
     "metadata": {},
     "output_type": "execute_result"
    }
   ],
   "source": [
    "np.corrcoef(x1,x2)"
   ]
  }
 ],
 "metadata": {
  "kernelspec": {
   "display_name": "base",
   "language": "python",
   "name": "python3"
  },
  "language_info": {
   "codemirror_mode": {
    "name": "ipython",
    "version": 3
   },
   "file_extension": ".py",
   "mimetype": "text/x-python",
   "name": "python",
   "nbconvert_exporter": "python",
   "pygments_lexer": "ipython3",
   "version": "3.13.5"
  },
  "toc": {
   "base_numbering": 1,
   "nav_menu": {},
   "number_sections": true,
   "sideBar": true,
   "skip_h1_title": false,
   "title_cell": "Table of Contents",
   "title_sidebar": "Contents",
   "toc_cell": false,
   "toc_position": {},
   "toc_section_display": true,
   "toc_window_display": false
  }
 },
 "nbformat": 4,
 "nbformat_minor": 5
}
