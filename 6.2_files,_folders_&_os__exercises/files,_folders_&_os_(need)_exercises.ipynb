{
 "cells": [
  {
   "attachments": {},
   "cell_type": "markdown",
   "id": "123456",
   "metadata": {},
   "source": [
    "<div style=\"text-align:left;font-size:2em\"><span style=\"font-weight:bolder;font-size:1.25em\">SP2273 | Learning Portfolio</span><br><br><span style=\"font-weight:bold;color:darkred\">Files, Folders & OS (Need) Exercises</span></div>"
   ]
  },
  {
   "cell_type": "code",
   "execution_count": 2,
   "id": "3d24ad81",
   "metadata": {},
   "outputs": [],
   "source": [
    "import os\n",
    "import glob\n",
    "import shutil"
   ]
  },
  {
   "cell_type": "markdown",
   "id": "303bfa0a",
   "metadata": {},
   "source": [
    "## Task 1"
   ]
  },
  {
   "cell_type": "code",
   "execution_count": 34,
   "id": "8ec8171e",
   "metadata": {},
   "outputs": [],
   "source": [
    "months = {\n",
    "'jan': '01', 'feb': '02', 'mar': '03',\n",
    "'apr': '04', 'may': '05', 'jun': '06',\n",
    "'jul': '07', 'aug': '08', 'sep': '09',\n",
    "'oct': '10', 'nov': '11', 'dec': '12'\n",
    "}\n",
    "\n",
    "for place in ['cairo', 'dhaka', 'jakarta', 'karachi', 'manila', 'melbourne', 'osaka', 'shanghai', 'singapore', 'tokyo']:\n",
    "    for month in months.keys():\n",
    "        for date1 in range (1,10):\n",
    "            try: \n",
    "                oldname = (f'{month}-0{date1}_{place}.txt')\n",
    "                newname = (f'{months[month]}-0{date1}-{place}.txt')\n",
    "                old = os.path.join(\"os-collaboration-exercise-data\", oldname)\n",
    "                new = os.path.join(\"os-collaboration-exercise-data\", newname)\n",
    "                os.rename(old, new)\n",
    "            except FileNotFoundError:\n",
    "                continue\n",
    "        for date1 in range (10,32):\n",
    "            try: \n",
    "                oldname = (f'{month}-{date1}_{place}.txt')\n",
    "                newname = (f'{months[month]}-{date1}-{place}.txt')\n",
    "                old = os.path.join(\"os-collaboration-exercise-data\", oldname)\n",
    "                new = os.path.join(\"os-collaboration-exercise-data\", newname)\n",
    "                os.rename(old, new)\n",
    "            except FileNotFoundError:\n",
    "                continue"
   ]
  },
  {
   "cell_type": "markdown",
   "id": "288efa17",
   "metadata": {},
   "source": [
    "## Task 2"
   ]
  },
  {
   "cell_type": "code",
   "execution_count": 63,
   "id": "c9744fe7",
   "metadata": {},
   "outputs": [
    {
     "data": {
      "text/plain": [
       "'04-02-jakarta.txt'"
      ]
     },
     "execution_count": 63,
     "metadata": {},
     "output_type": "execute_result"
    }
   ],
   "source": [
    "def rename_my_file(old_file_name):\n",
    "    mm = months[old_file_name.split('-')[0]]\n",
    "    dd = (old_file_name.split('-')[1]).split('_')[0]\n",
    "    city = old_file_name.split('_')[1]\n",
    "    new_file_name = (f'{mm}-{dd}-{city}')\n",
    "    return new_file_name\n",
    "\n",
    "rename_my_file('apr-02_jakarta.txt')"
   ]
  },
  {
   "cell_type": "markdown",
   "id": "e506e47c",
   "metadata": {},
   "source": [
    "## Task 3"
   ]
  },
  {
   "cell_type": "code",
   "execution_count": 68,
   "id": "745aa554",
   "metadata": {},
   "outputs": [
    {
     "name": "stdout",
     "output_type": "stream",
     "text": [
      "oct-08_singapore.txt---->10-08-singapore.txt\n",
      "jul-10_cairo.txt---->07-10-cairo.txt\n",
      "may-15_dhaka.txt---->05-15-dhaka.txt\n",
      "may-13_cairo.txt---->05-13-cairo.txt\n",
      "oct-21_cairo.txt---->10-21-cairo.txt\n",
      "jan-10_singapore.txt---->01-10-singapore.txt\n",
      "jun-20_tokyo.txt---->06-20-tokyo.txt\n",
      "aug-06_jakarta.txt---->08-06-jakarta.txt\n",
      "dec-21_karachi.txt---->12-21-karachi.txt\n",
      "jan-01_tokyo.txt---->01-01-tokyo.txt\n"
     ]
    }
   ],
   "source": [
    "files = ['oct-08_singapore.txt', 'jul-10_cairo.txt', 'may-15_dhaka.txt',\n",
    " 'may-13_cairo.txt', 'oct-21_cairo.txt', 'jan-10_singapore.txt',\n",
    " 'jun-20_tokyo.txt', 'aug-06_jakarta.txt', 'dec-21_karachi.txt',\n",
    " 'jan-01_tokyo.txt']\n",
    "\n",
    "for file in files:\n",
    "    print(f'{file}---->{rename_my_file(file)}')"
   ]
  },
  {
   "cell_type": "markdown",
   "id": "5abcea92",
   "metadata": {},
   "source": [
    "## Task 4"
   ]
  },
  {
   "cell_type": "code",
   "execution_count": null,
   "id": "bdd41b4e",
   "metadata": {},
   "outputs": [],
   "source": []
  }
 ],
 "metadata": {
  "kernelspec": {
   "display_name": "base",
   "language": "python",
   "name": "python3"
  },
  "language_info": {
   "codemirror_mode": {
    "name": "ipython",
    "version": 3
   },
   "file_extension": ".py",
   "mimetype": "text/x-python",
   "name": "python",
   "nbconvert_exporter": "python",
   "pygments_lexer": "ipython3",
   "version": "3.13.5"
  },
  "toc": {
   "base_numbering": 1,
   "nav_menu": {},
   "number_sections": true,
   "sideBar": true,
   "skip_h1_title": false,
   "title_cell": "Table of Contents",
   "title_sidebar": "Contents",
   "toc_cell": false,
   "toc_position": {},
   "toc_section_display": true,
   "toc_window_display": false
  }
 },
 "nbformat": 4,
 "nbformat_minor": 5
}
