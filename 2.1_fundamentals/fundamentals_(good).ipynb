{
 "cells": [
  {
   "attachments": {},
   "cell_type": "markdown",
   "id": "123456",
   "metadata": {},
   "source": [
    "<div style=\"text-align:left;font-size:2em\"><span style=\"font-weight:bolder;font-size:1.25em\">SP2273 | Learning Portfolio</span><br><br><span style=\"font-weight:bold;color:darkred\">Fundamentals (Good)</span></div>"
   ]
  },
  {
   "attachments": {},
   "cell_type": "markdown",
   "id": "123456",
   "metadata": {},
   "source": [
    "# What to expect in this chapter"
   ]
  },
  {
   "attachments": {},
   "cell_type": "markdown",
   "id": "123456",
   "metadata": {},
   "source": [
    "# 1 There is more to if"
   ]
  },
  {
   "cell_type": "code",
   "execution_count": 1,
   "id": "7f0ecb89",
   "metadata": {},
   "outputs": [
    {
     "name": "stdout",
     "output_type": "stream",
     "text": [
      "Hello Batman!\n"
     ]
    }
   ],
   "source": [
    "name = 'Batman'\n",
    "\n",
    "if name == 'Batman':\n",
    "    print('Hello Batman!')\n",
    "elif name == 'Robin':\n",
    "    print('Hello Sidekick!')\n",
    "else:\n",
    "    print('Hello World!')"
   ]
  },
  {
   "attachments": {},
   "cell_type": "markdown",
   "id": "123456",
   "metadata": {},
   "source": [
    "# 2 Asking questions"
   ]
  },
  {
   "cell_type": "code",
   "execution_count": 2,
   "id": "21fe7b8f",
   "metadata": {},
   "outputs": [],
   "source": [
    "fruits = ['apple', 'banana', 'pineapple', 'jackfruit']\n",
    "vegetables = ['celery', 'potato', 'broccoli', 'kale']"
   ]
  },
  {
   "cell_type": "code",
   "execution_count": 3,
   "id": "844fe1da",
   "metadata": {},
   "outputs": [
    {
     "data": {
      "text/plain": [
       "True"
      ]
     },
     "execution_count": 3,
     "metadata": {},
     "output_type": "execute_result"
    }
   ],
   "source": [
    "('apple' in fruits) and ('celery' in vegetables)"
   ]
  },
  {
   "cell_type": "code",
   "execution_count": 4,
   "id": "99aab0d9",
   "metadata": {},
   "outputs": [
    {
     "data": {
      "text/plain": [
       "True"
      ]
     },
     "execution_count": 4,
     "metadata": {},
     "output_type": "execute_result"
    }
   ],
   "source": [
    "('apple' in fruits) or ('celery' in vegetables)"
   ]
  },
  {
   "cell_type": "code",
   "execution_count": 5,
   "id": "575255f5",
   "metadata": {},
   "outputs": [
    {
     "data": {
      "text/plain": [
       "True"
      ]
     },
     "execution_count": 5,
     "metadata": {},
     "output_type": "execute_result"
    }
   ],
   "source": [
    "'peach' not in fruits"
   ]
  },
  {
   "cell_type": "markdown",
   "id": "072a1aa3",
   "metadata": {},
   "source": [
    "not, in, and, or are some Python keywords that are useful in asking questions."
   ]
  },
  {
   "attachments": {},
   "cell_type": "markdown",
   "id": "123456",
   "metadata": {},
   "source": [
    "## 2.1 Asking Math questions"
   ]
  },
  {
   "cell_type": "code",
   "execution_count": 8,
   "id": "b392edd3",
   "metadata": {},
   "outputs": [
    {
     "data": {
      "text/plain": [
       "False"
      ]
     },
     "execution_count": 8,
     "metadata": {},
     "output_type": "execute_result"
    }
   ],
   "source": [
    "x = 1       #defines x\n",
    "x == 5      # asking whether is equals"
   ]
  },
  {
   "attachments": {},
   "cell_type": "markdown",
   "id": "123456",
   "metadata": {},
   "source": [
    "# 3 Python stores information in different formats or types"
   ]
  },
  {
   "cell_type": "code",
   "execution_count": 9,
   "id": "e3737c95",
   "metadata": {},
   "outputs": [
    {
     "name": "stdout",
     "output_type": "stream",
     "text": [
      "1 <class 'int'>\n"
     ]
    }
   ],
   "source": [
    "x = int(1.234)\n",
    "print(x, type(x))"
   ]
  },
  {
   "cell_type": "code",
   "execution_count": 10,
   "id": "9fd2bf99",
   "metadata": {},
   "outputs": [
    {
     "name": "stdout",
     "output_type": "stream",
     "text": [
      "1.234 <class 'str'>\n"
     ]
    }
   ],
   "source": [
    "x = str(1.234)\n",
    "print(x, type(x))"
   ]
  },
  {
   "cell_type": "code",
   "execution_count": 11,
   "id": "6032a4d7",
   "metadata": {},
   "outputs": [
    {
     "name": "stdout",
     "output_type": "stream",
     "text": [
      "1.234 <class 'float'>\n"
     ]
    }
   ],
   "source": [
    "x = float(1.234)\n",
    "print(x, type(x))"
   ]
  },
  {
   "cell_type": "code",
   "execution_count": 15,
   "id": "4092f2da",
   "metadata": {},
   "outputs": [
    {
     "name": "stdout",
     "output_type": "stream",
     "text": [
      "1.234 <class 'numpy.float16'>\n"
     ]
    }
   ],
   "source": [
    "import numpy as np\n",
    "x = np.float16(1.234)\n",
    "print(x, type(x))"
   ]
  },
  {
   "cell_type": "code",
   "execution_count": 16,
   "id": "8335adf0",
   "metadata": {},
   "outputs": [
    {
     "name": "stdout",
     "output_type": "stream",
     "text": [
      "(1.234+0j) <class 'complex'>\n"
     ]
    }
   ],
   "source": [
    "x = complex(1.234)\n",
    "print(x, type(x))"
   ]
  },
  {
   "attachments": {},
   "cell_type": "markdown",
   "id": "123456",
   "metadata": {},
   "source": [
    "# 4 Never compare floats directly"
   ]
  },
  {
   "attachments": {},
   "cell_type": "markdown",
   "id": "123456",
   "metadata": {},
   "source": [
    "## 4.1 The Problem"
   ]
  },
  {
   "cell_type": "code",
   "execution_count": 17,
   "id": "12a1218f",
   "metadata": {},
   "outputs": [
    {
     "data": {
      "text/plain": [
       "False"
      ]
     },
     "execution_count": 17,
     "metadata": {},
     "output_type": "execute_result"
    }
   ],
   "source": [
    "a = 0.1\n",
    "a3 = 0.3\n",
    "a * 3 == a3"
   ]
  },
  {
   "cell_type": "markdown",
   "id": "5d1b9381",
   "metadata": {},
   "source": [
    "thats weird"
   ]
  },
  {
   "cell_type": "code",
   "execution_count": 18,
   "id": "2f37d455",
   "metadata": {},
   "outputs": [
    {
     "data": {
      "text/plain": [
       "'0.29999999999999999'"
      ]
     },
     "execution_count": 18,
     "metadata": {},
     "output_type": "execute_result"
    }
   ],
   "source": [
    "f'{0.3:.17f}'"
   ]
  },
  {
   "attachments": {},
   "cell_type": "markdown",
   "id": "123456",
   "metadata": {},
   "source": [
    "## 4.2 A solution"
   ]
  },
  {
   "cell_type": "code",
   "execution_count": 19,
   "id": "77cc669d",
   "metadata": {},
   "outputs": [
    {
     "data": {
      "text/plain": [
       "True"
      ]
     },
     "execution_count": 19,
     "metadata": {},
     "output_type": "execute_result"
    }
   ],
   "source": [
    "eps = 1E-10            #just a small number\n",
    "abs(a * 3 - a3) < eps   # is the absolute diff\n",
    "                        #smaller than the small no.?"
   ]
  },
  {
   "attachments": {},
   "cell_type": "markdown",
   "id": "123456",
   "metadata": {},
   "source": [
    "# 5 Combining English and variables"
   ]
  },
  {
   "attachments": {},
   "cell_type": "markdown",
   "id": "123456",
   "metadata": {},
   "source": [
    "## 5.1 Structure of f-strings"
   ]
  },
  {
   "cell_type": "code",
   "execution_count": 21,
   "id": "bfbad0d2",
   "metadata": {},
   "outputs": [
    {
     "name": "stdout",
     "output_type": "stream",
     "text": [
      "Bruce Wayne is Batman.\n"
     ]
    }
   ],
   "source": [
    "text = 'Bruce Wayne is Batman.'\n",
    "print(text)"
   ]
  },
  {
   "cell_type": "code",
   "execution_count": null,
   "id": "31afb9af",
   "metadata": {},
   "outputs": [
    {
     "name": "stdout",
     "output_type": "stream",
     "text": [
      "Bruce Wayne is Batman.\n"
     ]
    }
   ],
   "source": [
    "text = 'Bruce Wayne is Batman.'\n",
    "print(f'{text}')"
   ]
  },
  {
   "cell_type": "code",
   "execution_count": null,
   "id": "3806e012",
   "metadata": {},
   "outputs": [
    {
     "name": "stdout",
     "output_type": "stream",
     "text": [
      "    Bruce Wayne is Batman.    \n"
     ]
    }
   ],
   "source": [
    "print(f'{text:^30}')"
   ]
  },
  {
   "cell_type": "code",
   "execution_count": null,
   "id": "5a11e296",
   "metadata": {},
   "outputs": [],
   "source": []
  },
  {
   "cell_type": "code",
   "execution_count": null,
   "id": "d460e954",
   "metadata": {},
   "outputs": [],
   "source": []
  },
  {
   "cell_type": "code",
   "execution_count": 25,
   "id": "4335648c",
   "metadata": {},
   "outputs": [
    {
     "name": "stdout",
     "output_type": "stream",
     "text": [
      "The cube of pi to 6 decimal places is 31.006277\n"
     ]
    }
   ],
   "source": [
    "print(f'The cube of pi to 6 decimal places is {np.pi**3:.6f}')"
   ]
  },
  {
   "attachments": {},
   "cell_type": "markdown",
   "id": "123456",
   "metadata": {},
   "source": [
    "# 6 Escape sequences"
   ]
  },
  {
   "attachments": {},
   "cell_type": "markdown",
   "id": "123456",
   "metadata": {},
   "source": [
    "## 6.1 Self-documenting f-strings"
   ]
  },
  {
   "attachments": {},
   "cell_type": "markdown",
   "id": "123456",
   "metadata": {},
   "source": [
    "# 7 Computers read = from Right to Left!"
   ]
  },
  {
   "attachments": {},
   "cell_type": "markdown",
   "id": "123456",
   "metadata": {},
   "source": [
    "# 8 Shorter and Cleaner Code"
   ]
  },
  {
   "attachments": {},
   "cell_type": "markdown",
   "id": "123456",
   "metadata": {},
   "source": [
    "# 9 Python can be a prima-donna."
   ]
  },
  {
   "attachments": {},
   "cell_type": "markdown",
   "id": "123456",
   "metadata": {},
   "source": [
    "# 10 Best Practices for Scientific Computing"
   ]
  },
  {
   "attachments": {},
   "cell_type": "markdown",
   "id": "123456",
   "metadata": {},
   "source": [
    "# 11 Looking for help"
   ]
  },
  {
   "attachments": {},
   "cell_type": "markdown",
   "id": "123456",
   "metadata": {},
   "source": [
    "## References"
   ]
  },
  {
   "attachments": {},
   "cell_type": "markdown",
   "id": "123456",
   "metadata": {},
   "source": [
    "## Footnotes"
   ]
  }
 ],
 "metadata": {
  "kernelspec": {
   "display_name": "base",
   "language": "python",
   "name": "python3"
  },
  "language_info": {
   "codemirror_mode": {
    "name": "ipython",
    "version": 3
   },
   "file_extension": ".py",
   "mimetype": "text/x-python",
   "name": "python",
   "nbconvert_exporter": "python",
   "pygments_lexer": "ipython3",
   "version": "3.13.5"
  },
  "toc": {
   "base_numbering": 1,
   "nav_menu": {},
   "number_sections": true,
   "sideBar": true,
   "skip_h1_title": false,
   "title_cell": "Table of Contents",
   "title_sidebar": "Contents",
   "toc_cell": false,
   "toc_position": {},
   "toc_section_display": true,
   "toc_window_display": false
  }
 },
 "nbformat": 4,
 "nbformat_minor": 5
}
