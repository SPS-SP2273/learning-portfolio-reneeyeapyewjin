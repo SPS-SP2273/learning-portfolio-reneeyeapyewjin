{
 "cells": [
  {
   "attachments": {},
   "cell_type": "markdown",
   "id": "123456",
   "metadata": {},
   "source": [
    "<div style=\"text-align:left;font-size:2em\"><span style=\"font-weight:bolder;font-size:1.25em\">SP2273 | Learning Portfolio</span><br><br><span style=\"font-weight:bold;color:darkred\">Fundamentals (Good) Exercises</span></div>"
   ]
  },
  {
   "cell_type": "markdown",
   "id": "197e3793",
   "metadata": {},
   "source": [
    "## Exercise 1 (f-strings to the rescue) "
   ]
  },
  {
   "cell_type": "markdown",
   "id": "02c3f0c5",
   "metadata": {},
   "source": [
    "#### Task 1"
   ]
  },
  {
   "cell_type": "code",
   "execution_count": 8,
   "id": "8ef41dcf",
   "metadata": {},
   "outputs": [
    {
     "name": "stdout",
     "output_type": "stream",
     "text": [
      "\"How you doin Renee!\"\n"
     ]
    }
   ],
   "source": [
    "user_input = input('Please provide me with your name?')\n",
    "print(f'\"How you doin {user_input}!\"')"
   ]
  },
  {
   "cell_type": "markdown",
   "id": "c29bb425",
   "metadata": {},
   "source": [
    "#### Task 2"
   ]
  },
  {
   "cell_type": "code",
   "execution_count": 1,
   "id": "2314853a",
   "metadata": {},
   "outputs": [
    {
     "name": "stdout",
     "output_type": "stream",
     "text": [
      "\"My name is Renee and I am 19 years old.\"\n"
     ]
    }
   ],
   "source": [
    "user_input_1 = input('What is your name?')\n",
    "user_input_2 = input('What is your age?')\n",
    "print(f'\"My name is {user_input_1} and I am {user_input_2} years old.\"')"
   ]
  },
  {
   "cell_type": "markdown",
   "id": "8c55bec2",
   "metadata": {},
   "source": [
    "#### Task 3"
   ]
  },
  {
   "cell_type": "code",
   "execution_count": 5,
   "id": "32a3c5e1",
   "metadata": {},
   "outputs": [
    {
     "name": "stdout",
     "output_type": "stream",
     "text": [
      "The value of pi to 2 decimal places is: 3.14\n",
      "The value of pi to 3 decimal places is: 3.142\n",
      "The value of pi to 4 decimal places is: 3.1416\n"
     ]
    }
   ],
   "source": [
    "pi=3.141592653589793\n",
    "print(f'The value of pi to 2 decimal places is: {pi:.2f}')\n",
    "print(f'The value of pi to 3 decimal places is: {pi:.3f}')\n",
    "print(f'The value of pi to 4 decimal places is: {pi:.4f}')"
   ]
  },
  {
   "cell_type": "markdown",
   "id": "16dbfce8",
   "metadata": {},
   "source": [
    "#### Task 4"
   ]
  },
  {
   "cell_type": "code",
   "execution_count": 27,
   "id": "8d3e8542",
   "metadata": {},
   "outputs": [
    {
     "name": "stdout",
     "output_type": "stream",
     "text": [
      "Apple      $ 0.99\n",
      "Banana     $ 0.59\n",
      "Orange     $ 1.29\n"
     ]
    }
   ],
   "source": [
    "a='Apple'\n",
    "b='0.99'\n",
    "c='Banana'\n",
    "d='0.59'\n",
    "e='Orange'\n",
    "f='1.29'\n",
    "print(f'{a:<10} ${b:>5}' )\n",
    "print(f'{c:<10} ${d:>5}' )\n",
    "print(f'{e:<10} ${f:>5}' )"
   ]
  },
  {
   "cell_type": "markdown",
   "id": "dc0281cc",
   "metadata": {},
   "source": [
    "## Exercise 2 (What is your grade?)"
   ]
  },
  {
   "cell_type": "code",
   "execution_count": 23,
   "id": "e5bf394e",
   "metadata": {},
   "outputs": [
    {
     "name": "stdout",
     "output_type": "stream",
     "text": [
      "The student's letter grade is: B\n"
     ]
    }
   ],
   "source": [
    "user_input = float(input('Enter the student\\'s score:'))\n",
    "if 70 <= user_input <= 100:\n",
    "    print(\"The student\\'s letter grade is: A\")\n",
    "elif 50 <= user_input <= 69:\n",
    "    print(\"The student\\'s letter grade is: B\")\n",
    "elif 35 <= user_input <= 49:\n",
    "    print(\"The student\\'s letter grade is: C\")\n",
    "elif 0 <= user_input <= 34:\n",
    "    print(\"The student\\'s letter grade is: Fail\")\n",
    "else:\n",
    "    print(\"Error: Please input the student\\'s score again.\")"
   ]
  },
  {
   "cell_type": "markdown",
   "id": "9ceea511",
   "metadata": {},
   "source": [
    "## Exercise 3 (Debugging Code)"
   ]
  },
  {
   "cell_type": "code",
   "execution_count": 36,
   "id": "39bc6dc9",
   "metadata": {},
   "outputs": [
    {
     "name": "stdout",
     "output_type": "stream",
     "text": [
      "120\n",
      "Invalid input\n"
     ]
    }
   ],
   "source": [
    "def factorial(n):\n",
    "    if n < 0:\n",
    "        return \"Invalid input\"\n",
    "    elif n == 0:\n",
    "        return 1\n",
    "    else:\n",
    "        result = 1\n",
    "        for number in range(1, n+1):\n",
    "            result *= number\n",
    "        return result\n",
    "\n",
    "\n",
    "print(factorial(5))   # Testing, expected output: 120\n",
    "print(factorial(-1))  # Testing, expected output: Invalid input"
   ]
  }
 ],
 "metadata": {
  "kernelspec": {
   "display_name": "base",
   "language": "python",
   "name": "python3"
  },
  "language_info": {
   "codemirror_mode": {
    "name": "ipython",
    "version": 3
   },
   "file_extension": ".py",
   "mimetype": "text/x-python",
   "name": "python",
   "nbconvert_exporter": "python",
   "pygments_lexer": "ipython3",
   "version": "3.13.5"
  },
  "toc": {
   "base_numbering": 1,
   "nav_menu": {},
   "number_sections": true,
   "sideBar": true,
   "skip_h1_title": false,
   "title_cell": "Table of Contents",
   "title_sidebar": "Contents",
   "toc_cell": false,
   "toc_position": {},
   "toc_section_display": true,
   "toc_window_display": false
  }
 },
 "nbformat": 4,
 "nbformat_minor": 5
}
