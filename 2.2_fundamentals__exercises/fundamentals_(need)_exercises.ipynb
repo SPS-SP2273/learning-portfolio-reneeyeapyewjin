{
 "cells": [
  {
   "attachments": {},
   "cell_type": "markdown",
   "id": "123456",
   "metadata": {},
   "source": [
    "<div style=\"text-align:left;font-size:2em\"><span style=\"font-weight:bolder;font-size:1.25em\">SP2273 | Learning Portfolio</span><br><br><span style=\"font-weight:bold;color:darkred\">Fundamentals (Need) Exercises</span></div>"
   ]
  },
  {
   "cell_type": "markdown",
   "id": "f75abb32",
   "metadata": {},
   "source": [
    "## Exercise 1"
   ]
  },
  {
   "cell_type": "markdown",
   "id": "3c2672de",
   "metadata": {},
   "source": [
    "1. Python is interpreted\n",
    "2. Python is case-senstive\n",
    "3. Comments can be written with #\n",
    "4. Can import packages like math and numpy\n",
    "5. Dot is used for ownership\n",
    "6. Three different types of brackets\n",
    "7. Spaces are important (so try to use tab)\n",
    "8. Functions\n",
    "9. If is used to make decisions\n",
    "10. _= is used to set something while == is used to check something_\n",
    "11. _'age' is english while age is a variable_\n",
    "\n"
   ]
  },
  {
   "cell_type": "markdown",
   "id": "bd670c1f",
   "metadata": {},
   "source": [
    "## Exercise 2"
   ]
  },
  {
   "cell_type": "code",
   "execution_count": 3,
   "id": "7cb0da34",
   "metadata": {},
   "outputs": [
    {
     "name": "stdout",
     "output_type": "stream",
     "text": [
      "3 4 5\n"
     ]
    }
   ],
   "source": [
    "import math\n",
    "\n",
    "x, y = 3, 4\n",
    "z = math.sqrt(x**2 + y**2)\n",
    "print(x, y, int(z))"
   ]
  },
  {
   "cell_type": "markdown",
   "id": "90eae066",
   "metadata": {},
   "source": [
    "## Exercise 3"
   ]
  },
  {
   "cell_type": "markdown",
   "id": "ab028586",
   "metadata": {},
   "source": [
    "|#|Term|Description|\n",
    "|:--:|:--|:--|\n",
    "|1|Function|Does a specific task|\n",
    "|2|Argument|Something that is acted on by the function|\n",
    "|3|Comments|Additional information written to help the person reading the code better understand it|\n",
    "|4|Indentations|Spaces and tabs|\n",
    "|5|Packages|A set of special features that need to be imported before Python can do those things|\n",
    "|6|.|Indicates ownership (what is written after the dot belongs to what is written before the dot)|\n",
    "|7|:|Indicates that the following tabbed lines form a block of code|\n",
    "|8|[]|Used for a 1 dimensional list|\n",
    "|9|\t[[],[]]|Used for a 2 dimensional list|\n",
    "|10|{}|Used to store data in a dictionary|"
   ]
  },
  {
   "cell_type": "markdown",
   "id": "30a063e0",
   "metadata": {},
   "source": [
    "## Exercise 4"
   ]
  },
  {
   "cell_type": "code",
   "execution_count": 11,
   "id": "2ebf1a08",
   "metadata": {},
   "outputs": [
    {
     "data": {
      "text/plain": [
       "2.5"
      ]
     },
     "execution_count": 11,
     "metadata": {},
     "output_type": "execute_result"
    }
   ],
   "source": [
    "5/2         # Division and gives \n",
    "            #the answer with decimal places"
   ]
  },
  {
   "cell_type": "code",
   "execution_count": 20,
   "id": "d8875b51",
   "metadata": {},
   "outputs": [
    {
     "data": {
      "text/plain": [
       "2"
      ]
     },
     "execution_count": 20,
     "metadata": {},
     "output_type": "execute_result"
    }
   ],
   "source": [
    "5//2        # Division and rounds down\n",
    "            #the answer to a whole number"
   ]
  },
  {
   "cell_type": "code",
   "execution_count": 23,
   "id": "aead5bba",
   "metadata": {},
   "outputs": [
    {
     "data": {
      "text/plain": [
       "1"
      ]
     },
     "execution_count": 23,
     "metadata": {},
     "output_type": "execute_result"
    }
   ],
   "source": [
    "5%2         # Division and gives\n",
    "            #the remainder"
   ]
  }
 ],
 "metadata": {
  "kernelspec": {
   "display_name": "base",
   "language": "python",
   "name": "python3"
  },
  "language_info": {
   "codemirror_mode": {
    "name": "ipython",
    "version": 3
   },
   "file_extension": ".py",
   "mimetype": "text/x-python",
   "name": "python",
   "nbconvert_exporter": "python",
   "pygments_lexer": "ipython3",
   "version": "3.13.5"
  },
  "toc": {
   "base_numbering": 1,
   "nav_menu": {},
   "number_sections": true,
   "sideBar": true,
   "skip_h1_title": false,
   "title_cell": "Table of Contents",
   "title_sidebar": "Contents",
   "toc_cell": false,
   "toc_position": {},
   "toc_section_display": true,
   "toc_window_display": false
  }
 },
 "nbformat": 4,
 "nbformat_minor": 5
}
