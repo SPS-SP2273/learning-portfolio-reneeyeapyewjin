{
 "cells": [
  {
   "attachments": {},
   "cell_type": "markdown",
   "id": "123456",
   "metadata": {},
   "source": [
    "<div style=\"text-align:left;font-size:2em\"><span style=\"font-weight:bolder;font-size:1.25em\">SP2273 | Learning Portfolio</span><br><br><span style=\"font-weight:bold;color:darkred\">Using Jupyter (Need), Exercises</span></div>"
   ]
  },
  {
   "attachments": {},
   "cell_type": "markdown",
   "id": "5d5f6139",
   "metadata": {},
   "source": [
    "## 1 Quadratic Equations"
   ]
  },
  {
   "attachments": {},
   "cell_type": "markdown",
   "id": "3fe05a18",
   "metadata": {},
   "source": [
    "### Introduction"
   ]
  },
  {
   "cell_type": "markdown",
   "id": "89125981",
   "metadata": {},
   "source": [
    "![](https://upload.wikimedia.org/wikipedia/commons/thumb/f/f8/Polynomialdeg2.svg/300px-Polynomialdeg2.svg.png)\n",
    "\n",
    "*(Image from the [Wikipedia page on Quadratic equations](https://en.wikipedia.org/wiki/Quadratic_equation))*\n",
    "\n",
    "\n",
    "The general form of a quadratic equation is:\n",
    "$$ax^2+bx+c=0$$"
   ]
  },
  {
   "attachments": {},
   "cell_type": "markdown",
   "id": "f0694635",
   "metadata": {},
   "source": [
    "### Solutions"
   ]
  },
  {
   "cell_type": "markdown",
   "id": "7684123f",
   "metadata": {},
   "source": [
    "Provided $a \\ne 0$, we can use an elementary algebraic method called [completing the square](https://en.wikipedia.org/wiki/Completing_the_square) to show that a quadratic equation has the following solution:\n",
    "$$\n",
    "x=\\dfrac{-b \\pm \\sqrt{b^2-4ac}}{2a}\n",
    "$$"
   ]
  },
  {
   "attachments": {},
   "cell_type": "markdown",
   "id": "360311bd",
   "metadata": {},
   "source": [
    "### Discriminant"
   ]
  },
  {
   "cell_type": "markdown",
   "id": "9bbf7434",
   "metadata": {},
   "source": [
    "The quantity $\\Delta =b^2-4ac$ is called the **discriminant** of the equation and decides the nature of its solutions. The table below shows the various possibilities.\n",
    "\n",
    "\n",
    "|Discriminant|Roots|\n",
    "|:--:|:--|\n",
    "|$\\Delta =b^2-4ac=0$|A single solution of $-b/(2a)$|\n",
    "|$\\Delta =b^2-4ac \\gt 0$|Two distinct solutions|\n",
    "|$\\Delta =b^2-4ac \\lt 0$|No real solutions; both are complex.|"
   ]
  },
  {
   "cell_type": "markdown",
   "id": "75714074",
   "metadata": {},
   "source": [
    "## 2 Answering Questions"
   ]
  },
  {
   "cell_type": "markdown",
   "id": "cce7c294",
   "metadata": {},
   "source": [
    "1. What is a Git repository?\n",
    "    - A Git repository is a folder that stores files and all the changes made\n",
    "2. Git keeps track of ____BLANK____ in the files in our repository.\n",
    "    - Changes\n",
    "3. What is a commit?\n",
    "    -  A commit specifies what file changes are to be recorded and attaches a brief description of these changes\n",
    "4. What is a push?\n",
    "    - A push records the committed changes (which are stored locally) on the online server so that others can view it\n",
    "5. What is a pull?\n",
    "    - A pull syncs changes made online (e.g., by others) so that you can view the changes locally\n",
    "6. What is the difference between GitHub and GitHub Desktop?\n",
    "    - GitHub is the online service while GitHub Desktop is the app used to connect the files saved locally to the online server"
   ]
  },
  {
   "cell_type": "markdown",
   "id": "d14f4ab3",
   "metadata": {},
   "source": [
    "## 3 Statistics Equations"
   ]
  },
  {
   "cell_type": "markdown",
   "id": "73fc5974",
   "metadata": {},
   "source": [
    "$$\n",
    "\\mu = \\dfrac{1}{n} \\sum_{i=1}^{n}x_{i}\n",
    "$$\n",
    "\n",
    "$$\n",
    "\\sigma = \\sqrt{\\dfrac{1}{n} \\sum_{i=1}^{n} (x_{i}-\\mu)^2}\n",
    "$$\n",
    "\n",
    "$$\n",
    "r = \\dfrac{\\sum_{i=1}^{n} (x_i-\\mu_X)(y_i-\\mu_Y)}{\\sqrt{\\sum_{i=1}^{n}(x_i-\\mu_X)^2 \\sum_{i=1}^{n}(y_i-\\mu_Y)^2}}\n",
    "$$"
   ]
  }
 ],
 "metadata": {
  "kernelspec": {
   "display_name": "base",
   "language": "python",
   "name": "python3"
  },
  "language_info": {
   "codemirror_mode": {
    "name": "ipython",
    "version": 3
   },
   "file_extension": ".py",
   "mimetype": "text/x-python",
   "name": "python",
   "nbconvert_exporter": "python",
   "pygments_lexer": "ipython3",
   "version": "3.13.5"
  },
  "toc": {
   "base_numbering": 1,
   "nav_menu": {},
   "number_sections": true,
   "sideBar": true,
   "skip_h1_title": false,
   "title_cell": "Table of Contents",
   "title_sidebar": "Contents",
   "toc_cell": false,
   "toc_position": {},
   "toc_section_display": true,
   "toc_window_display": false
  }
 },
 "nbformat": 4,
 "nbformat_minor": 5
}
