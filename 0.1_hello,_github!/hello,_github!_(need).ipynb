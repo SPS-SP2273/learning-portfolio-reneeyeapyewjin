{
 "cells": [
  {
   "attachments": {},
   "cell_type": "markdown",
   "id": "123456",
   "metadata": {},
   "source": [
    "<div style=\"text-align:left;font-size:2em\"><span style=\"font-weight:bolder;font-size:1.25em\">SP2273 | Learning Portfolio</span><br><br><span style=\"font-weight:bold;color:darkred\">Hello, GitHub! (Need)</span></div>"
   ]
  },
  {
   "attachments": {},
   "cell_type": "markdown",
   "id": "6822320d",
   "metadata": {},
   "source": [
    "# Setting up GitHub Classroom"
   ]
  },
  {
   "attachments": {},
   "cell_type": "markdown",
   "id": "1024f794",
   "metadata": {},
   "source": [
    "### Create an account with GitHub"
   ]
  },
  {
   "cell_type": "code",
   "execution_count": null,
   "id": "7cb96d2d",
   "metadata": {},
   "outputs": [],
   "source": [
    "\n",
    "# Your code here\n"
   ]
  },
  {
   "attachments": {},
   "cell_type": "markdown",
   "id": "fa54e8f8",
   "metadata": {},
   "source": [
    "### Link to 73 GitHub Classroom"
   ]
  },
  {
   "cell_type": "code",
   "execution_count": null,
   "id": "62315a66",
   "metadata": {},
   "outputs": [],
   "source": [
    "\n",
    "# Your code here\n"
   ]
  },
  {
   "attachments": {},
   "cell_type": "markdown",
   "id": "559fe038",
   "metadata": {},
   "source": [
    "### Enabling ReviewNB"
   ]
  },
  {
   "cell_type": "code",
   "execution_count": null,
   "id": "89cfc15e",
   "metadata": {},
   "outputs": [],
   "source": [
    "\n",
    "# Your code here\n"
   ]
  },
  {
   "attachments": {},
   "cell_type": "markdown",
   "id": "67679cf4",
   "metadata": {},
   "source": [
    "### Setting up your local environment with GitHub Desktop"
   ]
  },
  {
   "cell_type": "code",
   "execution_count": null,
   "id": "21cb0078",
   "metadata": {},
   "outputs": [],
   "source": [
    "\n",
    "# Your code here\n"
   ]
  },
  {
   "attachments": {},
   "cell_type": "markdown",
   "id": "2002a1a3",
   "metadata": {},
   "source": [
    "# Using Git & GitHub"
   ]
  },
  {
   "attachments": {},
   "cell_type": "markdown",
   "id": "6e4ec378",
   "metadata": {},
   "source": [
    "### Recording changes with GitHub"
   ]
  },
  {
   "cell_type": "code",
   "execution_count": null,
   "id": "7bfc4edd",
   "metadata": {},
   "outputs": [],
   "source": [
    "\n",
    "# Your code here\n"
   ]
  },
  {
   "attachments": {},
   "cell_type": "markdown",
   "id": "93df98bf",
   "metadata": {},
   "source": [
    "### Pushing Changes to GitHub"
   ]
  },
  {
   "cell_type": "code",
   "execution_count": null,
   "id": "f92a04aa",
   "metadata": {},
   "outputs": [],
   "source": [
    "\n",
    "# Your code here\n"
   ]
  },
  {
   "attachments": {},
   "cell_type": "markdown",
   "id": "6ba656cd",
   "metadata": {},
   "source": [
    "### Pulling Changes from GitHub"
   ]
  },
  {
   "cell_type": "code",
   "execution_count": null,
   "id": "4addb823",
   "metadata": {},
   "outputs": [],
   "source": [
    "\n",
    "# Your code here\n"
   ]
  },
  {
   "attachments": {},
   "cell_type": "markdown",
   "id": "cc0f67b7",
   "metadata": {},
   "source": [
    "## Footnotes"
   ]
  }
 ],
 "metadata": {
  "kernelspec": {
   "display_name": "Python 3 (ipykernel)",
   "language": "python",
   "name": "python3"
  },
  "language_info": {
   "codemirror_mode": {
    "name": "ipython",
    "version": 3
   },
   "file_extension": ".py",
   "mimetype": "text/x-python",
   "name": "python",
   "nbconvert_exporter": "python",
   "pygments_lexer": "ipython3",
   "version": "3.13.5"
  },
  "toc": {
   "base_numbering": 1,
   "nav_menu": {},
   "number_sections": true,
   "sideBar": true,
   "skip_h1_title": false,
   "title_cell": "Table of Contents",
   "title_sidebar": "Contents",
   "toc_cell": false,
   "toc_position": {},
   "toc_section_display": true,
   "toc_window_display": false
  },
  "vscode": {
   "interpreter": {
    "hash": "31f2aee4e71d21fbe5cf8b01ff0e069b9275f58929596ceb00d14d90e3e16cd6"
   }
  }
 },
 "nbformat": 4,
 "nbformat_minor": 5
}
