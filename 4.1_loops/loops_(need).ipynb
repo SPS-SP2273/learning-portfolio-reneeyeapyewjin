{
 "cells": [
  {
   "attachments": {},
   "cell_type": "markdown",
   "id": "123456",
   "metadata": {},
   "source": [
    "<div style=\"text-align:left;font-size:2em\"><span style=\"font-weight:bolder;font-size:1.25em\">SP2273 | Learning Portfolio</span><br><br><span style=\"font-weight:bold;color:darkred\">Loops (Need)</span></div>"
   ]
  },
  {
   "attachments": {},
   "cell_type": "markdown",
   "id": "123456",
   "metadata": {},
   "source": [
    "# What to expect in this chapter"
   ]
  },
  {
   "attachments": {},
   "cell_type": "markdown",
   "id": "123456",
   "metadata": {},
   "source": [
    "# 1 The for iterator"
   ]
  },
  {
   "attachments": {},
   "cell_type": "markdown",
   "id": "123456",
   "metadata": {},
   "source": [
    "## 1.1 for with a list"
   ]
  },
  {
   "cell_type": "code",
   "execution_count": 2,
   "id": "7d30c0e4",
   "metadata": {},
   "outputs": [],
   "source": [
    "real_names = [\"Natasha Romanoff\", \"Tony Stark\", \"Stephen Strange\"]"
   ]
  },
  {
   "cell_type": "code",
   "execution_count": 3,
   "id": "b5f14069",
   "metadata": {},
   "outputs": [
    {
     "name": "stdout",
     "output_type": "stream",
     "text": [
      "Natasha Romanoff is a Marvel superhero!\n",
      "Tony Stark is a Marvel superhero!\n",
      "Stephen Strange is a Marvel superhero!\n"
     ]
    }
   ],
   "source": [
    "\n",
    "for name in real_names:\n",
    "    print(f\"{name} is a Marvel superhero!\")"
   ]
  },
  {
   "cell_type": "code",
   "execution_count": 4,
   "id": "397ef086",
   "metadata": {},
   "outputs": [
    {
     "name": "stdout",
     "output_type": "stream",
     "text": [
      "Natasha Romanoff is a Marvel superhero!\n",
      "Tony Stark is a Marvel superhero!\n",
      "Stephen Strange is a Marvel superhero!\n",
      "Peter Parker is a Marvel superhero!\n"
     ]
    }
   ],
   "source": [
    "for name in real_names + ['Peter Parker']:\n",
    "    print(f\"{name} is a Marvel superhero!\")"
   ]
  },
  {
   "cell_type": "code",
   "execution_count": 6,
   "id": "6062c331",
   "metadata": {},
   "outputs": [
    {
     "name": "stdout",
     "output_type": "stream",
     "text": [
      "1 Natasha Romanoff\n",
      "2 Tony Stark\n",
      "3 Stephen Strange\n"
     ]
    }
   ],
   "source": [
    "count = 0\n",
    "for name in real_names:\n",
    "    count += 1\n",
    "    print (count, name)"
   ]
  },
  {
   "attachments": {},
   "cell_type": "markdown",
   "id": "123456",
   "metadata": {},
   "source": [
    "## 1.2 for with enumerate"
   ]
  },
  {
   "cell_type": "code",
   "execution_count": 8,
   "id": "831de855",
   "metadata": {},
   "outputs": [
    {
     "name": "stdout",
     "output_type": "stream",
     "text": [
      "1: Natasha Romanoff is a Marvel superhero!\n",
      "2: Tony Stark is a Marvel superhero!\n",
      "3: Stephen Strange is a Marvel superhero!\n"
     ]
    }
   ],
   "source": [
    "for count, name in enumerate(real_names, 1):\n",
    "    print(f'{count}: {name} is a Marvel superhero!')"
   ]
  },
  {
   "cell_type": "code",
   "execution_count": 11,
   "id": "9bef41e0",
   "metadata": {},
   "outputs": [
    {
     "name": "stdout",
     "output_type": "stream",
     "text": [
      "1 Natasha\n",
      "1 Romanoff\n",
      "2 Tony\n",
      "2 Stark\n",
      "3 Stephen\n",
      "3 Strange\n"
     ]
    }
   ],
   "source": [
    "for count, name in enumerate(real_names, 1):\n",
    "    first, last = name.split()\n",
    "    print(count, first)\n",
    "    print(count, last)"
   ]
  },
  {
   "cell_type": "code",
   "execution_count": 12,
   "id": "be27d037",
   "metadata": {},
   "outputs": [
    {
     "name": "stdout",
     "output_type": "stream",
     "text": [
      "1 Natasha ROMANOFF\n",
      "2 Tony STARK\n",
      "3 Stephen STRANGE\n"
     ]
    }
   ],
   "source": [
    "for count, name in enumerate(real_names, 1):\n",
    "    first, last = name.split()\n",
    "    print(count, first, last.upper())"
   ]
  },
  {
   "cell_type": "code",
   "execution_count": 18,
   "id": "75da8270",
   "metadata": {},
   "outputs": [
    {
     "name": "stdout",
     "output_type": "stream",
     "text": [
      "1, Natasha, ROMANOFF\n",
      "2, Tony, STARK\n",
      "3, Stephen, STRANGE\n",
      "\n"
     ]
    }
   ],
   "source": [
    "all_names = \"\"\n",
    "for count, name in enumerate(real_names, 1):\n",
    "    first, last = name.split()\n",
    "    all_names += f'{count}, {first}, {last.upper()}\\n'\n",
    "\n",
    "print(all_names)"
   ]
  },
  {
   "attachments": {},
   "cell_type": "markdown",
   "id": "123456",
   "metadata": {},
   "source": [
    "## 1.3 for with range"
   ]
  },
  {
   "cell_type": "code",
   "execution_count": 20,
   "id": "cee212ed",
   "metadata": {},
   "outputs": [],
   "source": [
    "super_names = [\"Black Widow\", \"Iron Man\", \"Doctor Strange\"]\n",
    "real_names = [\"Natasha Romanoff\", \"Tony Stark\", \"Stephen Strange\"]"
   ]
  },
  {
   "cell_type": "code",
   "execution_count": 21,
   "id": "6f605f16",
   "metadata": {},
   "outputs": [
    {
     "name": "stdout",
     "output_type": "stream",
     "text": [
      "Natasha Romanoff is Marvel's Black Widow!\n",
      "Tony Stark is Marvel's Iron Man!\n",
      "Stephen Strange is Marvel's Doctor Strange!\n"
     ]
    }
   ],
   "source": [
    "for i in range(len(real_names)):\n",
    "    real_name = real_names[i]\n",
    "    super_name = super_names[i]        \n",
    "    print(f\"{real_name} is Marvel's {super_name}!\")"
   ]
  },
  {
   "attachments": {},
   "cell_type": "markdown",
   "id": "123456",
   "metadata": {},
   "source": [
    "# 2 while"
   ]
  },
  {
   "cell_type": "code",
   "execution_count": null,
   "id": "ca64cf48",
   "metadata": {},
   "outputs": [
    {
     "name": "stdout",
     "output_type": "stream",
     "text": [
      "x*180/np.pi=57.2957795131 np.sin(x)=0.84147098 np.tan(x)=1.55740772 False\n",
      "x*180/np.pi=28.6478897565 np.sin(x)=0.47942554 np.tan(x)=0.54630249 False\n",
      "x*180/np.pi=14.3239448783 np.sin(x)=0.24740396 np.tan(x)=0.25534192 False\n",
      "x*180/np.pi=7.1619724391 np.sin(x)=0.12467473 np.tan(x)=0.12565514 False\n",
      "x*180/np.pi=3.5809862196 np.sin(x)=0.06245932 np.tan(x)=0.06258151 False\n",
      "x*180/np.pi=1.7904931098 np.sin(x)=0.03124491 np.tan(x)=0.03126018 False\n",
      "x*180/np.pi=0.8952465549 np.sin(x)=0.01562436 np.tan(x)=0.01562627 False\n",
      "x*180/np.pi=0.4476232774 np.sin(x)=0.00781242 np.tan(x)=0.00781266 False\n",
      "x*180/np.pi=0.2238116387 np.sin(x)=0.00390624 np.tan(x)=0.00390627 True\n",
      "x*180/np.pi=0.1119058194 np.sin(x)=0.00195312 np.tan(x)=0.00195313 True\n",
      "x*180/np.pi=0.0559529097 np.sin(x)=0.00097656 np.tan(x)=0.00097656 True\n",
      "x*180/np.pi=0.0279764548 np.sin(x)=0.00048828 np.tan(x)=0.00048828 True\n",
      "x*180/np.pi=0.0139882274 np.sin(x)=0.00024414 np.tan(x)=0.00024414 True\n",
      "x*180/np.pi=0.0069941137 np.sin(x)=0.00012207 np.tan(x)=0.00012207 True\n",
      "x*180/np.pi=0.0034970569 np.sin(x)=0.00006104 np.tan(x)=0.00006104 True\n",
      "x*180/np.pi=0.0017485284 np.sin(x)=0.00003052 np.tan(x)=0.00003052 True\n",
      "x*180/np.pi=0.0008742642 np.sin(x)=0.00001526 np.tan(x)=0.00001526 True\n"
     ]
    }
   ],
   "source": [
    "import numpy as np\n",
    "x = 1\n",
    "\n",
    "while x > 1E-5:\n",
    "    print(\n",
    "        f'{x*180/np.pi=:.10f}', \n",
    "        f'{np.sin(x)=:.8f}', \n",
    "        f'{np.tan(x)=:.8f}',\n",
    "        np.isclose(np.sin(x), np.tan(x))\n",
    "        )\n",
    "    x /= 2\n"
   ]
  }
 ],
 "metadata": {
  "kernelspec": {
   "display_name": "base",
   "language": "python",
   "name": "python3"
  },
  "language_info": {
   "codemirror_mode": {
    "name": "ipython",
    "version": 3
   },
   "file_extension": ".py",
   "mimetype": "text/x-python",
   "name": "python",
   "nbconvert_exporter": "python",
   "pygments_lexer": "ipython3",
   "version": "3.13.5"
  },
  "toc": {
   "base_numbering": 1,
   "nav_menu": {},
   "number_sections": true,
   "sideBar": true,
   "skip_h1_title": false,
   "title_cell": "Table of Contents",
   "title_sidebar": "Contents",
   "toc_cell": false,
   "toc_position": {},
   "toc_section_display": true,
   "toc_window_display": false
  }
 },
 "nbformat": 4,
 "nbformat_minor": 5
}
