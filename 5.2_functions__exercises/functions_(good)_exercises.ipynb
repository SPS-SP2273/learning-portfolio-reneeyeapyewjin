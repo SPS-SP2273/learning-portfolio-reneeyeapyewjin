{
 "cells": [
  {
   "attachments": {},
   "cell_type": "markdown",
   "id": "123456",
   "metadata": {},
   "source": [
    "<div style=\"text-align:left;font-size:2em\"><span style=\"font-weight:bolder;font-size:1.25em\">SP2273 | Learning Portfolio</span><br><br><span style=\"font-weight:bold;color:darkred\">Functions (Good) Exercises</span></div>"
   ]
  },
  {
   "cell_type": "markdown",
   "id": "ee8e3080",
   "metadata": {},
   "source": [
    "## Exercise 1 (Celsius to Fahrenheit or Kelvin)"
   ]
  },
  {
   "cell_type": "code",
   "execution_count": 13,
   "id": "c49e439a",
   "metadata": {},
   "outputs": [
    {
     "name": "stdout",
     "output_type": "stream",
     "text": [
      "68.0\n",
      "293.15\n"
     ]
    }
   ],
   "source": [
    "def convert_celsius(temperature_celsius,target_scale = \"Fahrenheit\"):\n",
    "    if target_scale == \"Kelvin\":\n",
    "        return temperature_celsius + 273.15\n",
    "    else:\n",
    "        return temperature_celsius*9/5+32\n",
    "\n",
    "print(convert_celsius(20))\n",
    "print(convert_celsius(20, \"Kelvin\"))"
   ]
  },
  {
   "cell_type": "markdown",
   "id": "8f566c05",
   "metadata": {},
   "source": [
    "## Exercise 2 (Fahrenheit to Celsius or Kelvin)"
   ]
  },
  {
   "cell_type": "code",
   "execution_count": 14,
   "id": "ae5c31a1",
   "metadata": {},
   "outputs": [
    {
     "name": "stdout",
     "output_type": "stream",
     "text": [
      "20.0\n",
      "293.15\n"
     ]
    }
   ],
   "source": [
    "def convert_fahrenheit(temperature_fahrenheit,target_scale = \"Celsius\"):\n",
    "    if target_scale == \"Kelvin\":\n",
    "        return (temperature_fahrenheit - 32)*5/9 + 273.15\n",
    "    else:\n",
    "        return (temperature_fahrenheit - 32)*5/9\n",
    "    \n",
    "print(convert_fahrenheit(68))\n",
    "print(convert_fahrenheit(68, \"Kelvin\"))"
   ]
  },
  {
   "cell_type": "markdown",
   "id": "c54c36d6",
   "metadata": {},
   "source": [
    "## Exercise 3 (General Temperature Conversion)"
   ]
  },
  {
   "cell_type": "code",
   "execution_count": null,
   "id": "f09e75a7",
   "metadata": {},
   "outputs": [
    {
     "name": "stdout",
     "output_type": "stream",
     "text": [
      "20.0\n",
      "293.15\n",
      "20.0\n",
      "68.0\n",
      "293.15\n",
      "68.0\n"
     ]
    }
   ],
   "source": [
    "def convert_temperature(temperature, source_scale, target_scale):\n",
    "    if source_scale == \"Celsius\":\n",
    "        return convert_celsius(temperature, target_scale)\n",
    "    elif source_scale == \"Fahrenheit\":\n",
    "        return convert_fahrenheit(temperature, target_scale)\n",
    "    else:          #meaning source is in Kelvin\n",
    "        if target_scale == \"Fahrenheit\":\n",
    "            return (temperature - 273.15)*9/5 + 32\n",
    "        else:\n",
    "            return temperature - 273.15\n",
    "        \n",
    "print(convert_temperature(293.15, \"Kelvin\", \"Celsius\"))\n",
    "print(convert_temperature(20, \"Celsius\", \"Kelvin\"))\n",
    "print(convert_temperature(68, \"Fahrenheit\", \"Celsius\"))\n",
    "print(convert_temperature(20, \"Celsius\", \"Fahrenheit\"))\n",
    "print(convert_temperature(68, \"Fahrenheit\", \"Kelvin\"))\n",
    "print(convert_temperature(293.15, \"Kelvin\", \"Fahrenheit\"))"
   ]
  }
 ],
 "metadata": {
  "kernelspec": {
   "display_name": "base",
   "language": "python",
   "name": "python3"
  },
  "language_info": {
   "codemirror_mode": {
    "name": "ipython",
    "version": 3
   },
   "file_extension": ".py",
   "mimetype": "text/x-python",
   "name": "python",
   "nbconvert_exporter": "python",
   "pygments_lexer": "ipython3",
   "version": "3.13.5"
  },
  "toc": {
   "base_numbering": 1,
   "nav_menu": {},
   "number_sections": true,
   "sideBar": true,
   "skip_h1_title": false,
   "title_cell": "Table of Contents",
   "title_sidebar": "Contents",
   "toc_cell": false,
   "toc_position": {},
   "toc_section_display": true,
   "toc_window_display": false
  }
 },
 "nbformat": 4,
 "nbformat_minor": 5
}
