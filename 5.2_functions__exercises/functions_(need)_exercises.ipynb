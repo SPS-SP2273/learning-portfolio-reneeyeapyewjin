{
 "cells": [
  {
   "attachments": {},
   "cell_type": "markdown",
   "id": "123456",
   "metadata": {},
   "source": [
    "<div style=\"text-align:left;font-size:2em\"><span style=\"font-weight:bolder;font-size:1.25em\">SP2273 | Learning Portfolio</span><br><br><span style=\"font-weight:bold;color:darkred\">Functions (Need) Exercises</span></div>"
   ]
  },
  {
   "cell_type": "markdown",
   "id": "978dc3fc",
   "metadata": {},
   "source": [
    "## Exercise 1 (Do you know why?)\n",
    "\n"
   ]
  },
  {
   "cell_type": "markdown",
   "id": "01df4039",
   "metadata": {},
   "source": [
    "I think it is because if the name is not \"Batman\", Python will just go onto the next line and execute it. So the else is not really necessary."
   ]
  },
  {
   "cell_type": "markdown",
   "id": "d91757b7",
   "metadata": {},
   "source": [
    "## Exercise 2 (Chubby or not)"
   ]
  },
  {
   "cell_type": "code",
   "execution_count": 25,
   "id": "cf629ed9",
   "metadata": {},
   "outputs": [
    {
     "data": {
      "text/plain": [
       "'Normal weight'"
      ]
     },
     "execution_count": 25,
     "metadata": {},
     "output_type": "execute_result"
    }
   ],
   "source": [
    "def calculate_bmi(weight, height):\n",
    "    BMI = weight / (height ** 2)\n",
    "    if BMI <18.5:\n",
    "        return \"Underweight\"\n",
    "    elif 18.5 <= BMI <= 24.9:\n",
    "        return \"Normal weight\"\n",
    "    elif 25 <= BMI <= 29.9:\n",
    "        return \"Overweight\"\n",
    "    elif BMI > 30:\n",
    "        return \"Obese\"\n",
    "    \n",
    "calculate_bmi(50, 1.6)"
   ]
  },
  {
   "cell_type": "markdown",
   "id": "022deb5f",
   "metadata": {},
   "source": [
    "## Exercise 3 (Factorials)"
   ]
  },
  {
   "cell_type": "code",
   "execution_count": 26,
   "id": "e90936dd",
   "metadata": {},
   "outputs": [
    {
     "data": {
      "text/plain": [
       "'Factorials are not defined for negative numbers'"
      ]
     },
     "execution_count": 26,
     "metadata": {},
     "output_type": "execute_result"
    }
   ],
   "source": [
    "def factorial(n):\n",
    "    if n>0:\n",
    "        answer = 1\n",
    "        for number in range (1, n+1):\n",
    "            answer *= number\n",
    "        return answer\n",
    "    elif n==0:\n",
    "        return 1\n",
    "    else:\n",
    "        return \"Factorials are not defined for negative numbers\"\n",
    "factorial(-1)"
   ]
  }
 ],
 "metadata": {
  "kernelspec": {
   "display_name": "base",
   "language": "python",
   "name": "python3"
  },
  "language_info": {
   "codemirror_mode": {
    "name": "ipython",
    "version": 3
   },
   "file_extension": ".py",
   "mimetype": "text/x-python",
   "name": "python",
   "nbconvert_exporter": "python",
   "pygments_lexer": "ipython3",
   "version": "3.13.5"
  },
  "toc": {
   "base_numbering": 1,
   "nav_menu": {},
   "number_sections": true,
   "sideBar": true,
   "skip_h1_title": false,
   "title_cell": "Table of Contents",
   "title_sidebar": "Contents",
   "toc_cell": false,
   "toc_position": {},
   "toc_section_display": true,
   "toc_window_display": false
  }
 },
 "nbformat": 4,
 "nbformat_minor": 5
}
